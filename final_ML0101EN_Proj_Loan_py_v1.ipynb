{
    "cells": [
        {
            "cell_type": "markdown",
            "metadata": {
                "button": false,
                "id": "mvskqwlQjcVv",
                "new_sheet": false,
                "run_control": {
                    "read_only": false
                }
            },
            "source": "<p style=\"text-align:center\">\n    <a href=\"https://skills.network/?utm_medium=Exinfluencer&utm_source=Exinfluencer&utm_content=000026UJ&utm_term=10006555&utm_id=NA-SkillsNetwork-Channel-SkillsNetworkCoursesIBMDeveloperSkillsNetworkML0101ENSkillsNetwork20718538-2022-01-01\" target=\"_blank\">\n    <img src=\"https://cf-courses-data.s3.us.cloud-object-storage.appdomain.cloud/assets/logos/SN_web_lightmode.png\" width=\"200\" alt=\"Skills Network Logo\"  />\n    </a>\n</p>\n\n<h1 align=\"center\"><font size=\"5\">Classification with Python</font></h1>\n"
        },
        {
            "cell_type": "markdown",
            "metadata": {
                "button": false,
                "id": "nJF-A5uhjcV4",
                "new_sheet": false,
                "run_control": {
                    "read_only": false
                }
            },
            "source": "In this notebook we try to practice all the classification algorithms that we have learned in this course.\n\nWe load a dataset using Pandas library, and apply the following algorithms, and find the best one for this specific dataset by accuracy evaluation methods.\n\nLet's first load required libraries:\n"
        },
        {
            "cell_type": "code",
            "execution_count": 1,
            "metadata": {
                "button": false,
                "id": "OTNGZVK4jcV5",
                "new_sheet": false,
                "run_control": {
                    "read_only": false
                }
            },
            "outputs": [],
            "source": "import itertools\nimport numpy as np\nimport matplotlib.pyplot as plt\nfrom matplotlib.ticker import NullFormatter\nimport pandas as pd\nimport numpy as np\nimport matplotlib.ticker as ticker\nfrom sklearn import preprocessing\n%matplotlib inline"
        },
        {
            "cell_type": "markdown",
            "metadata": {
                "button": false,
                "id": "HLuiJMTqjcV9",
                "new_sheet": false,
                "run_control": {
                    "read_only": false
                }
            },
            "source": "### About dataset\n"
        },
        {
            "cell_type": "markdown",
            "metadata": {
                "button": false,
                "id": "emdH40sdjcV-",
                "new_sheet": false,
                "run_control": {
                    "read_only": false
                }
            },
            "source": "This dataset is about past loans. The **Loan_train.csv** data set includes details of 346 customers whose loan are already paid off or defaulted. It includes following fields:\n\n| Field          | Description                                                                           |\n| -------------- | ------------------------------------------------------------------------------------- |\n| Loan_status    | Whether a loan is paid off on in collection                                           |\n| Principal      | Basic principal loan amount at the                                                    |\n| Terms          | Origination terms which can be weekly (7 days), biweekly, and monthly payoff schedule |\n| Effective_date | When the loan got originated and took effects                                         |\n| Due_date       | Since it\u2019s one-time payoff schedule, each loan has one single due date                |\n| Age            | Age of applicant                                                                      |\n| Education      | Education of applicant                                                                |\n| Gender         | The gender of applicant                                                               |\n"
        },
        {
            "cell_type": "markdown",
            "metadata": {
                "button": false,
                "id": "wh7PoM8AjcV_",
                "new_sheet": false,
                "run_control": {
                    "read_only": false
                }
            },
            "source": "Let's download the dataset\n"
        },
        {
            "cell_type": "code",
            "execution_count": 2,
            "metadata": {
                "button": false,
                "colab": {
                    "base_uri": "https://localhost:8080/"
                },
                "id": "TrPvrzpHjcWA",
                "new_sheet": false,
                "outputId": "1a12f628-4ffc-4f0d-d758-0c2b70493d22",
                "run_control": {
                    "read_only": false
                }
            },
            "outputs": [
                {
                    "name": "stdout",
                    "output_type": "stream",
                    "text": "--2022-06-15 21:18:42--  https://cf-courses-data.s3.us.cloud-object-storage.appdomain.cloud/IBMDeveloperSkillsNetwork-ML0101EN-SkillsNetwork/labs/FinalModule_Coursera/data/loan_train.csv\nResolving cf-courses-data.s3.us.cloud-object-storage.appdomain.cloud (cf-courses-data.s3.us.cloud-object-storage.appdomain.cloud)... 198.23.119.245\nConnecting to cf-courses-data.s3.us.cloud-object-storage.appdomain.cloud (cf-courses-data.s3.us.cloud-object-storage.appdomain.cloud)|198.23.119.245|:443... connected.\nHTTP request sent, awaiting response... 200 OK\nLength: 23101 (23K) [text/csv]\nSaving to: \u2018loan_train.csv\u2019\n\nloan_train.csv      100%[===================>]  22.56K  --.-KB/s    in 0.001s  \n\n2022-06-15 21:18:42 (18.3 MB/s) - \u2018loan_train.csv\u2019 saved [23101/23101]\n\n"
                }
            ],
            "source": "!wget -O loan_train.csv https://cf-courses-data.s3.us.cloud-object-storage.appdomain.cloud/IBMDeveloperSkillsNetwork-ML0101EN-SkillsNetwork/labs/FinalModule_Coursera/data/loan_train.csv"
        },
        {
            "cell_type": "markdown",
            "metadata": {
                "button": false,
                "id": "JISl8Su-jcWB",
                "new_sheet": false,
                "run_control": {
                    "read_only": false
                }
            },
            "source": "### Load Data From CSV File\n"
        },
        {
            "cell_type": "code",
            "execution_count": 3,
            "metadata": {
                "button": false,
                "colab": {
                    "base_uri": "https://localhost:8080/",
                    "height": 424
                },
                "id": "9w64EM2QjcWD",
                "new_sheet": false,
                "outputId": "d2ea3734-feb0-47ce-a3ee-1978822335f4",
                "run_control": {
                    "read_only": false
                }
            },
            "outputs": [
                {
                    "data": {
                        "text/html": "<div>\n<style scoped>\n    .dataframe tbody tr th:only-of-type {\n        vertical-align: middle;\n    }\n\n    .dataframe tbody tr th {\n        vertical-align: top;\n    }\n\n    .dataframe thead th {\n        text-align: right;\n    }\n</style>\n<table border=\"1\" class=\"dataframe\">\n  <thead>\n    <tr style=\"text-align: right;\">\n      <th></th>\n      <th>Unnamed: 0</th>\n      <th>Unnamed: 0.1</th>\n      <th>loan_status</th>\n      <th>Principal</th>\n      <th>terms</th>\n      <th>effective_date</th>\n      <th>due_date</th>\n      <th>age</th>\n      <th>education</th>\n      <th>Gender</th>\n    </tr>\n  </thead>\n  <tbody>\n    <tr>\n      <th>0</th>\n      <td>0</td>\n      <td>0</td>\n      <td>PAIDOFF</td>\n      <td>1000</td>\n      <td>30</td>\n      <td>9/8/2016</td>\n      <td>10/7/2016</td>\n      <td>45</td>\n      <td>High School or Below</td>\n      <td>male</td>\n    </tr>\n    <tr>\n      <th>1</th>\n      <td>2</td>\n      <td>2</td>\n      <td>PAIDOFF</td>\n      <td>1000</td>\n      <td>30</td>\n      <td>9/8/2016</td>\n      <td>10/7/2016</td>\n      <td>33</td>\n      <td>Bechalor</td>\n      <td>female</td>\n    </tr>\n    <tr>\n      <th>2</th>\n      <td>3</td>\n      <td>3</td>\n      <td>PAIDOFF</td>\n      <td>1000</td>\n      <td>15</td>\n      <td>9/8/2016</td>\n      <td>9/22/2016</td>\n      <td>27</td>\n      <td>college</td>\n      <td>male</td>\n    </tr>\n    <tr>\n      <th>3</th>\n      <td>4</td>\n      <td>4</td>\n      <td>PAIDOFF</td>\n      <td>1000</td>\n      <td>30</td>\n      <td>9/9/2016</td>\n      <td>10/8/2016</td>\n      <td>28</td>\n      <td>college</td>\n      <td>female</td>\n    </tr>\n    <tr>\n      <th>4</th>\n      <td>6</td>\n      <td>6</td>\n      <td>PAIDOFF</td>\n      <td>1000</td>\n      <td>30</td>\n      <td>9/9/2016</td>\n      <td>10/8/2016</td>\n      <td>29</td>\n      <td>college</td>\n      <td>male</td>\n    </tr>\n    <tr>\n      <th>...</th>\n      <td>...</td>\n      <td>...</td>\n      <td>...</td>\n      <td>...</td>\n      <td>...</td>\n      <td>...</td>\n      <td>...</td>\n      <td>...</td>\n      <td>...</td>\n      <td>...</td>\n    </tr>\n    <tr>\n      <th>341</th>\n      <td>394</td>\n      <td>394</td>\n      <td>COLLECTION</td>\n      <td>800</td>\n      <td>15</td>\n      <td>9/11/2016</td>\n      <td>9/25/2016</td>\n      <td>32</td>\n      <td>High School or Below</td>\n      <td>male</td>\n    </tr>\n    <tr>\n      <th>342</th>\n      <td>395</td>\n      <td>395</td>\n      <td>COLLECTION</td>\n      <td>1000</td>\n      <td>30</td>\n      <td>9/11/2016</td>\n      <td>10/10/2016</td>\n      <td>25</td>\n      <td>High School or Below</td>\n      <td>male</td>\n    </tr>\n    <tr>\n      <th>343</th>\n      <td>397</td>\n      <td>397</td>\n      <td>COLLECTION</td>\n      <td>800</td>\n      <td>15</td>\n      <td>9/12/2016</td>\n      <td>9/26/2016</td>\n      <td>39</td>\n      <td>college</td>\n      <td>male</td>\n    </tr>\n    <tr>\n      <th>344</th>\n      <td>398</td>\n      <td>398</td>\n      <td>COLLECTION</td>\n      <td>1000</td>\n      <td>30</td>\n      <td>9/12/2016</td>\n      <td>11/10/2016</td>\n      <td>28</td>\n      <td>college</td>\n      <td>male</td>\n    </tr>\n    <tr>\n      <th>345</th>\n      <td>399</td>\n      <td>399</td>\n      <td>COLLECTION</td>\n      <td>1000</td>\n      <td>30</td>\n      <td>9/12/2016</td>\n      <td>10/11/2016</td>\n      <td>26</td>\n      <td>college</td>\n      <td>male</td>\n    </tr>\n  </tbody>\n</table>\n<p>346 rows \u00d7 10 columns</p>\n</div>",
                        "text/plain": "     Unnamed: 0  Unnamed: 0.1 loan_status  Principal  terms effective_date  \\\n0             0             0     PAIDOFF       1000     30       9/8/2016   \n1             2             2     PAIDOFF       1000     30       9/8/2016   \n2             3             3     PAIDOFF       1000     15       9/8/2016   \n3             4             4     PAIDOFF       1000     30       9/9/2016   \n4             6             6     PAIDOFF       1000     30       9/9/2016   \n..          ...           ...         ...        ...    ...            ...   \n341         394           394  COLLECTION        800     15      9/11/2016   \n342         395           395  COLLECTION       1000     30      9/11/2016   \n343         397           397  COLLECTION        800     15      9/12/2016   \n344         398           398  COLLECTION       1000     30      9/12/2016   \n345         399           399  COLLECTION       1000     30      9/12/2016   \n\n       due_date  age             education  Gender  \n0     10/7/2016   45  High School or Below    male  \n1     10/7/2016   33              Bechalor  female  \n2     9/22/2016   27               college    male  \n3     10/8/2016   28               college  female  \n4     10/8/2016   29               college    male  \n..          ...  ...                   ...     ...  \n341   9/25/2016   32  High School or Below    male  \n342  10/10/2016   25  High School or Below    male  \n343   9/26/2016   39               college    male  \n344  11/10/2016   28               college    male  \n345  10/11/2016   26               college    male  \n\n[346 rows x 10 columns]"
                    },
                    "execution_count": 3,
                    "metadata": {},
                    "output_type": "execute_result"
                }
            ],
            "source": "df = pd.read_csv('loan_train.csv')\n#df.head()\ndf"
        },
        {
            "cell_type": "code",
            "execution_count": 4,
            "metadata": {
                "colab": {
                    "base_uri": "https://localhost:8080/"
                },
                "id": "EAJ9tmtwjcWE",
                "outputId": "4e0c186f-f543-48de-bdb0-42f680696b37"
            },
            "outputs": [
                {
                    "data": {
                        "text/plain": "(346, 10)"
                    },
                    "execution_count": 4,
                    "metadata": {},
                    "output_type": "execute_result"
                }
            ],
            "source": "df.shape"
        },
        {
            "cell_type": "markdown",
            "metadata": {
                "button": false,
                "id": "qJ_YmRT3jcWE",
                "new_sheet": false,
                "run_control": {
                    "read_only": false
                }
            },
            "source": "### Convert to date time object\n"
        },
        {
            "cell_type": "code",
            "execution_count": 5,
            "metadata": {
                "button": false,
                "colab": {
                    "base_uri": "https://localhost:8080/",
                    "height": 206
                },
                "id": "4ahQUmzTjcWG",
                "new_sheet": false,
                "outputId": "044b9c75-1497-42b3-db90-efa98006d240",
                "run_control": {
                    "read_only": false
                }
            },
            "outputs": [
                {
                    "data": {
                        "text/html": "<div>\n<style scoped>\n    .dataframe tbody tr th:only-of-type {\n        vertical-align: middle;\n    }\n\n    .dataframe tbody tr th {\n        vertical-align: top;\n    }\n\n    .dataframe thead th {\n        text-align: right;\n    }\n</style>\n<table border=\"1\" class=\"dataframe\">\n  <thead>\n    <tr style=\"text-align: right;\">\n      <th></th>\n      <th>Unnamed: 0</th>\n      <th>Unnamed: 0.1</th>\n      <th>loan_status</th>\n      <th>Principal</th>\n      <th>terms</th>\n      <th>effective_date</th>\n      <th>due_date</th>\n      <th>age</th>\n      <th>education</th>\n      <th>Gender</th>\n    </tr>\n  </thead>\n  <tbody>\n    <tr>\n      <th>0</th>\n      <td>0</td>\n      <td>0</td>\n      <td>PAIDOFF</td>\n      <td>1000</td>\n      <td>30</td>\n      <td>2016-09-08</td>\n      <td>2016-10-07</td>\n      <td>45</td>\n      <td>High School or Below</td>\n      <td>male</td>\n    </tr>\n    <tr>\n      <th>1</th>\n      <td>2</td>\n      <td>2</td>\n      <td>PAIDOFF</td>\n      <td>1000</td>\n      <td>30</td>\n      <td>2016-09-08</td>\n      <td>2016-10-07</td>\n      <td>33</td>\n      <td>Bechalor</td>\n      <td>female</td>\n    </tr>\n    <tr>\n      <th>2</th>\n      <td>3</td>\n      <td>3</td>\n      <td>PAIDOFF</td>\n      <td>1000</td>\n      <td>15</td>\n      <td>2016-09-08</td>\n      <td>2016-09-22</td>\n      <td>27</td>\n      <td>college</td>\n      <td>male</td>\n    </tr>\n    <tr>\n      <th>3</th>\n      <td>4</td>\n      <td>4</td>\n      <td>PAIDOFF</td>\n      <td>1000</td>\n      <td>30</td>\n      <td>2016-09-09</td>\n      <td>2016-10-08</td>\n      <td>28</td>\n      <td>college</td>\n      <td>female</td>\n    </tr>\n    <tr>\n      <th>4</th>\n      <td>6</td>\n      <td>6</td>\n      <td>PAIDOFF</td>\n      <td>1000</td>\n      <td>30</td>\n      <td>2016-09-09</td>\n      <td>2016-10-08</td>\n      <td>29</td>\n      <td>college</td>\n      <td>male</td>\n    </tr>\n  </tbody>\n</table>\n</div>",
                        "text/plain": "   Unnamed: 0  Unnamed: 0.1 loan_status  Principal  terms effective_date  \\\n0           0             0     PAIDOFF       1000     30     2016-09-08   \n1           2             2     PAIDOFF       1000     30     2016-09-08   \n2           3             3     PAIDOFF       1000     15     2016-09-08   \n3           4             4     PAIDOFF       1000     30     2016-09-09   \n4           6             6     PAIDOFF       1000     30     2016-09-09   \n\n    due_date  age             education  Gender  \n0 2016-10-07   45  High School or Below    male  \n1 2016-10-07   33              Bechalor  female  \n2 2016-09-22   27               college    male  \n3 2016-10-08   28               college  female  \n4 2016-10-08   29               college    male  "
                    },
                    "execution_count": 5,
                    "metadata": {},
                    "output_type": "execute_result"
                }
            ],
            "source": "df['due_date'] = pd.to_datetime(df['due_date'])\ndf['effective_date'] = pd.to_datetime(df['effective_date'])\ndf.head()"
        },
        {
            "cell_type": "markdown",
            "metadata": {
                "button": false,
                "id": "Dc3LbcFWjcWG",
                "new_sheet": false,
                "run_control": {
                    "read_only": false
                }
            },
            "source": "# Data visualization and pre-processing\n"
        },
        {
            "cell_type": "markdown",
            "metadata": {
                "button": false,
                "id": "_NT7usABjcWH",
                "new_sheet": false,
                "run_control": {
                    "read_only": false
                }
            },
            "source": "Let\u2019s see how many of each class is in our data set\n"
        },
        {
            "cell_type": "code",
            "execution_count": 6,
            "metadata": {
                "button": false,
                "colab": {
                    "base_uri": "https://localhost:8080/"
                },
                "id": "9ZQUfjbvjcWI",
                "new_sheet": false,
                "outputId": "3f9b3d03-3b76-42b8-cb40-f21a93d55274",
                "run_control": {
                    "read_only": false
                }
            },
            "outputs": [
                {
                    "data": {
                        "text/plain": "PAIDOFF       260\nCOLLECTION     86\nName: loan_status, dtype: int64"
                    },
                    "execution_count": 6,
                    "metadata": {},
                    "output_type": "execute_result"
                }
            ],
            "source": "df['loan_status'].value_counts()"
        },
        {
            "cell_type": "markdown",
            "metadata": {
                "button": false,
                "id": "gtk5eqQGjcWI",
                "new_sheet": false,
                "run_control": {
                    "read_only": false
                }
            },
            "source": "260 people have paid off the loan on time while 86 have gone into collection\n"
        },
        {
            "cell_type": "markdown",
            "metadata": {
                "id": "OwXVlxTDjcWJ"
            },
            "source": "Let's plot some columns to underestand data better:\n"
        },
        {
            "cell_type": "code",
            "execution_count": 7,
            "metadata": {
                "colab": {
                    "base_uri": "https://localhost:8080/"
                },
                "id": "VxNIU7k4jcWJ",
                "outputId": "87e27d58-e1fd-4a44-ac71-96671269a606"
            },
            "outputs": [
                {
                    "name": "stdout",
                    "output_type": "stream",
                    "text": "Collecting package metadata (current_repodata.json): done\nSolving environment: done\n\n## Package Plan ##\n\n  environment location: /opt/conda/envs/Python-3.9\n\n  added / updated specs:\n    - seaborn\n\n\nThe following packages will be downloaded:\n\n    package                    |            build\n    ---------------------------|-----------------\n    ca-certificates-2022.4.26  |       h06a4308_0         132 KB  anaconda\n    seaborn-0.11.2             |     pyhd3eb1b0_0         223 KB  anaconda\n    ------------------------------------------------------------\n                                           Total:         355 KB\n\nThe following packages will be SUPERSEDED by a higher-priority channel:\n\n  ca-certificates                                 pkgs/main --> anaconda\n  seaborn                                         pkgs/main --> anaconda\n\n\n\nDownloading and Extracting Packages\nca-certificates-2022 | 132 KB    | ##################################### | 100% \nseaborn-0.11.2       | 223 KB    | ##################################### | 100% \nPreparing transaction: done\nVerifying transaction: done\nExecuting transaction: done\n"
                }
            ],
            "source": "# notice: installing seaborn might takes a few minutes\n!conda install -c anaconda seaborn -y"
        },
        {
            "cell_type": "code",
            "execution_count": 8,
            "metadata": {
                "colab": {
                    "base_uri": "https://localhost:8080/",
                    "height": 225
                },
                "id": "0tJj8o_BjcWJ",
                "outputId": "d7518390-0312-495c-9293-cc0aec6398cb"
            },
            "outputs": [
                {
                    "data": {
                        "image/png": "[encoded data removed]",
                        "text/plain": "<Figure size 432x216 with 2 Axes>"
                    },
                    "metadata": {
                        "needs_background": "light"
                    },
                    "output_type": "display_data"
                }
            ],
            "source": "import seaborn as sns\n\nbins = np.linspace(df.Principal.min(), df.Principal.max(), 10)\ng = sns.FacetGrid(df, col=\"Gender\", hue=\"loan_status\", palette=\"Set1\", col_wrap=2)\ng.map(plt.hist, 'Principal', bins=bins, ec=\"k\")\n\ng.axes[-1].legend()\nplt.show()"
        },
        {
            "cell_type": "code",
            "execution_count": 9,
            "metadata": {
                "button": false,
                "colab": {
                    "base_uri": "https://localhost:8080/",
                    "height": 225
                },
                "id": "4Ealb1BjjcWK",
                "new_sheet": false,
                "outputId": "3daab960-9313-4454-b101-91002c51cab3",
                "run_control": {
                    "read_only": false
                }
            },
            "outputs": [
                {
                    "data": {
                        "image/png": "[encoded data removed]",
                        "text/plain": "<Figure size 432x216 with 2 Axes>"
                    },
                    "metadata": {
                        "needs_background": "light"
                    },
                    "output_type": "display_data"
                }
            ],
            "source": "bins = np.linspace(df.age.min(), df.age.max(), 10)\ng = sns.FacetGrid(df, col=\"Gender\", hue=\"loan_status\", palette=\"Set1\", col_wrap=2)\ng.map(plt.hist, 'age', bins=bins, ec=\"k\")\n\ng.axes[-1].legend()\nplt.show()"
        },
        {
            "cell_type": "markdown",
            "metadata": {
                "button": false,
                "id": "Es8Fla_JjcWK",
                "new_sheet": false,
                "run_control": {
                    "read_only": false
                }
            },
            "source": "# Pre-processing:  Feature selection/extraction\n"
        },
        {
            "cell_type": "markdown",
            "metadata": {
                "button": false,
                "id": "FfYW0xXujcWL",
                "new_sheet": false,
                "run_control": {
                    "read_only": false
                }
            },
            "source": "### Let's look at the day of the week people get the loan\n"
        },
        {
            "cell_type": "code",
            "execution_count": 10,
            "metadata": {
                "button": false,
                "colab": {
                    "base_uri": "https://localhost:8080/",
                    "height": 225
                },
                "id": "wW9PGHwejcWL",
                "new_sheet": false,
                "outputId": "3614e34d-5c08-49bc-f3e1-41ed12255458",
                "run_control": {
                    "read_only": false
                }
            },
            "outputs": [
                {
                    "data": {
                        "image/png": "[encoded data removed]",
                        "text/plain": "<Figure size 432x216 with 2 Axes>"
                    },
                    "metadata": {
                        "needs_background": "light"
                    },
                    "output_type": "display_data"
                }
            ],
            "source": "df['dayofweek'] = df['effective_date'].dt.dayofweek\nbins = np.linspace(df.dayofweek.min(), df.dayofweek.max(), 10)\ng = sns.FacetGrid(df, col=\"Gender\", hue=\"loan_status\", palette=\"Set1\", col_wrap=2)\ng.map(plt.hist, 'dayofweek', bins=bins, ec=\"k\")\ng.axes[-1].legend()\nplt.show()\n"
        },
        {
            "cell_type": "markdown",
            "metadata": {
                "button": false,
                "id": "YunAUiIPjcWL",
                "new_sheet": false,
                "run_control": {
                    "read_only": false
                }
            },
            "source": "We see that people who get the loan at the end of the week don't pay it off, so let's use Feature binarization to set a threshold value less than day 4\n"
        },
        {
            "cell_type": "code",
            "execution_count": 11,
            "metadata": {
                "button": false,
                "colab": {
                    "base_uri": "https://localhost:8080/",
                    "height": 206
                },
                "id": "8HEDFgX_jcWL",
                "new_sheet": false,
                "outputId": "634e2a33-0c85-4490-ae60-d3cbb9bac87e",
                "run_control": {
                    "read_only": false
                }
            },
            "outputs": [
                {
                    "data": {
                        "text/html": "<div>\n<style scoped>\n    .dataframe tbody tr th:only-of-type {\n        vertical-align: middle;\n    }\n\n    .dataframe tbody tr th {\n        vertical-align: top;\n    }\n\n    .dataframe thead th {\n        text-align: right;\n    }\n</style>\n<table border=\"1\" class=\"dataframe\">\n  <thead>\n    <tr style=\"text-align: right;\">\n      <th></th>\n      <th>Unnamed: 0</th>\n      <th>Unnamed: 0.1</th>\n      <th>loan_status</th>\n      <th>Principal</th>\n      <th>terms</th>\n      <th>effective_date</th>\n      <th>due_date</th>\n      <th>age</th>\n      <th>education</th>\n      <th>Gender</th>\n      <th>dayofweek</th>\n      <th>weekend</th>\n    </tr>\n  </thead>\n  <tbody>\n    <tr>\n      <th>0</th>\n      <td>0</td>\n      <td>0</td>\n      <td>PAIDOFF</td>\n      <td>1000</td>\n      <td>30</td>\n      <td>2016-09-08</td>\n      <td>2016-10-07</td>\n      <td>45</td>\n      <td>High School or Below</td>\n      <td>male</td>\n      <td>3</td>\n      <td>0</td>\n    </tr>\n    <tr>\n      <th>1</th>\n      <td>2</td>\n      <td>2</td>\n      <td>PAIDOFF</td>\n      <td>1000</td>\n      <td>30</td>\n      <td>2016-09-08</td>\n      <td>2016-10-07</td>\n      <td>33</td>\n      <td>Bechalor</td>\n      <td>female</td>\n      <td>3</td>\n      <td>0</td>\n    </tr>\n    <tr>\n      <th>2</th>\n      <td>3</td>\n      <td>3</td>\n      <td>PAIDOFF</td>\n      <td>1000</td>\n      <td>15</td>\n      <td>2016-09-08</td>\n      <td>2016-09-22</td>\n      <td>27</td>\n      <td>college</td>\n      <td>male</td>\n      <td>3</td>\n      <td>0</td>\n    </tr>\n    <tr>\n      <th>3</th>\n      <td>4</td>\n      <td>4</td>\n      <td>PAIDOFF</td>\n      <td>1000</td>\n      <td>30</td>\n      <td>2016-09-09</td>\n      <td>2016-10-08</td>\n      <td>28</td>\n      <td>college</td>\n      <td>female</td>\n      <td>4</td>\n      <td>1</td>\n    </tr>\n    <tr>\n      <th>4</th>\n      <td>6</td>\n      <td>6</td>\n      <td>PAIDOFF</td>\n      <td>1000</td>\n      <td>30</td>\n      <td>2016-09-09</td>\n      <td>2016-10-08</td>\n      <td>29</td>\n      <td>college</td>\n      <td>male</td>\n      <td>4</td>\n      <td>1</td>\n    </tr>\n  </tbody>\n</table>\n</div>",
                        "text/plain": "   Unnamed: 0  Unnamed: 0.1 loan_status  Principal  terms effective_date  \\\n0           0             0     PAIDOFF       1000     30     2016-09-08   \n1           2             2     PAIDOFF       1000     30     2016-09-08   \n2           3             3     PAIDOFF       1000     15     2016-09-08   \n3           4             4     PAIDOFF       1000     30     2016-09-09   \n4           6             6     PAIDOFF       1000     30     2016-09-09   \n\n    due_date  age             education  Gender  dayofweek  weekend  \n0 2016-10-07   45  High School or Below    male          3        0  \n1 2016-10-07   33              Bechalor  female          3        0  \n2 2016-09-22   27               college    male          3        0  \n3 2016-10-08   28               college  female          4        1  \n4 2016-10-08   29               college    male          4        1  "
                    },
                    "execution_count": 11,
                    "metadata": {},
                    "output_type": "execute_result"
                }
            ],
            "source": "df['weekend'] = df['dayofweek'].apply(lambda x: 1 if (x>3)  else 0)\ndf.head()"
        },
        {
            "cell_type": "markdown",
            "metadata": {
                "button": false,
                "id": "eTTX0BKLjcWM",
                "new_sheet": false,
                "run_control": {
                    "read_only": false
                }
            },
            "source": "## Convert Categorical features to numerical values\n"
        },
        {
            "cell_type": "markdown",
            "metadata": {
                "button": false,
                "id": "NsMaw6oBjcWM",
                "new_sheet": false,
                "run_control": {
                    "read_only": false
                }
            },
            "source": "Let's look at gender:\n"
        },
        {
            "cell_type": "code",
            "execution_count": 12,
            "metadata": {
                "button": false,
                "colab": {
                    "base_uri": "https://localhost:8080/"
                },
                "id": "zAIisS-NjcWM",
                "new_sheet": false,
                "outputId": "90f4fc09-8a90-487c-b931-5c07ae2ba4dc",
                "run_control": {
                    "read_only": false
                }
            },
            "outputs": [
                {
                    "data": {
                        "text/plain": "Gender  loan_status\nfemale  PAIDOFF        0.865385\n        COLLECTION     0.134615\nmale    PAIDOFF        0.731293\n        COLLECTION     0.268707\nName: loan_status, dtype: float64"
                    },
                    "execution_count": 12,
                    "metadata": {},
                    "output_type": "execute_result"
                }
            ],
            "source": "df.groupby(['Gender'])['loan_status'].value_counts(normalize=True)"
        },
        {
            "cell_type": "markdown",
            "metadata": {
                "button": false,
                "id": "picOzvSXjcWM",
                "new_sheet": false,
                "run_control": {
                    "read_only": false
                }
            },
            "source": "86 % of female pay there loans while only 73 % of males pay there loan\n"
        },
        {
            "cell_type": "markdown",
            "metadata": {
                "button": false,
                "id": "H9Iy1xPPjcWN",
                "new_sheet": false,
                "run_control": {
                    "read_only": false
                }
            },
            "source": "Let's convert male to 0 and female to 1:\n"
        },
        {
            "cell_type": "code",
            "execution_count": 13,
            "metadata": {
                "button": false,
                "colab": {
                    "base_uri": "https://localhost:8080/",
                    "height": 206
                },
                "id": "sJLv3IF9jcWN",
                "new_sheet": false,
                "outputId": "0b7bc756-6502-48d9-d4ca-5bc174972eca",
                "run_control": {
                    "read_only": false
                }
            },
            "outputs": [
                {
                    "data": {
                        "text/html": "<div>\n<style scoped>\n    .dataframe tbody tr th:only-of-type {\n        vertical-align: middle;\n    }\n\n    .dataframe tbody tr th {\n        vertical-align: top;\n    }\n\n    .dataframe thead th {\n        text-align: right;\n    }\n</style>\n<table border=\"1\" class=\"dataframe\">\n  <thead>\n    <tr style=\"text-align: right;\">\n      <th></th>\n      <th>Unnamed: 0</th>\n      <th>Unnamed: 0.1</th>\n      <th>loan_status</th>\n      <th>Principal</th>\n      <th>terms</th>\n      <th>effective_date</th>\n      <th>due_date</th>\n      <th>age</th>\n      <th>education</th>\n      <th>Gender</th>\n      <th>dayofweek</th>\n      <th>weekend</th>\n    </tr>\n  </thead>\n  <tbody>\n    <tr>\n      <th>0</th>\n      <td>0</td>\n      <td>0</td>\n      <td>PAIDOFF</td>\n      <td>1000</td>\n      <td>30</td>\n      <td>2016-09-08</td>\n      <td>2016-10-07</td>\n      <td>45</td>\n      <td>High School or Below</td>\n      <td>0</td>\n      <td>3</td>\n      <td>0</td>\n    </tr>\n    <tr>\n      <th>1</th>\n      <td>2</td>\n      <td>2</td>\n      <td>PAIDOFF</td>\n      <td>1000</td>\n      <td>30</td>\n      <td>2016-09-08</td>\n      <td>2016-10-07</td>\n      <td>33</td>\n      <td>Bechalor</td>\n      <td>1</td>\n      <td>3</td>\n      <td>0</td>\n    </tr>\n    <tr>\n      <th>2</th>\n      <td>3</td>\n      <td>3</td>\n      <td>PAIDOFF</td>\n      <td>1000</td>\n      <td>15</td>\n      <td>2016-09-08</td>\n      <td>2016-09-22</td>\n      <td>27</td>\n      <td>college</td>\n      <td>0</td>\n      <td>3</td>\n      <td>0</td>\n    </tr>\n    <tr>\n      <th>3</th>\n      <td>4</td>\n      <td>4</td>\n      <td>PAIDOFF</td>\n      <td>1000</td>\n      <td>30</td>\n      <td>2016-09-09</td>\n      <td>2016-10-08</td>\n      <td>28</td>\n      <td>college</td>\n      <td>1</td>\n      <td>4</td>\n      <td>1</td>\n    </tr>\n    <tr>\n      <th>4</th>\n      <td>6</td>\n      <td>6</td>\n      <td>PAIDOFF</td>\n      <td>1000</td>\n      <td>30</td>\n      <td>2016-09-09</td>\n      <td>2016-10-08</td>\n      <td>29</td>\n      <td>college</td>\n      <td>0</td>\n      <td>4</td>\n      <td>1</td>\n    </tr>\n  </tbody>\n</table>\n</div>",
                        "text/plain": "   Unnamed: 0  Unnamed: 0.1 loan_status  Principal  terms effective_date  \\\n0           0             0     PAIDOFF       1000     30     2016-09-08   \n1           2             2     PAIDOFF       1000     30     2016-09-08   \n2           3             3     PAIDOFF       1000     15     2016-09-08   \n3           4             4     PAIDOFF       1000     30     2016-09-09   \n4           6             6     PAIDOFF       1000     30     2016-09-09   \n\n    due_date  age             education  Gender  dayofweek  weekend  \n0 2016-10-07   45  High School or Below       0          3        0  \n1 2016-10-07   33              Bechalor       1          3        0  \n2 2016-09-22   27               college       0          3        0  \n3 2016-10-08   28               college       1          4        1  \n4 2016-10-08   29               college       0          4        1  "
                    },
                    "execution_count": 13,
                    "metadata": {},
                    "output_type": "execute_result"
                }
            ],
            "source": "df['Gender'].replace(to_replace=['male','female'], value=[0,1],inplace=True)\ndf.head()"
        },
        {
            "cell_type": "markdown",
            "metadata": {
                "button": false,
                "id": "CoqXjh4wjcWN",
                "new_sheet": false,
                "run_control": {
                    "read_only": false
                }
            },
            "source": "## One Hot Encoding\n\n#### How about education?\n"
        },
        {
            "cell_type": "code",
            "execution_count": 14,
            "metadata": {
                "button": false,
                "colab": {
                    "base_uri": "https://localhost:8080/"
                },
                "id": "Wbyel-yQjcWN",
                "new_sheet": false,
                "outputId": "d0156496-939e-4533-e3aa-5735e9550659",
                "run_control": {
                    "read_only": false
                }
            },
            "outputs": [
                {
                    "data": {
                        "text/plain": "education             loan_status\nBechalor              PAIDOFF        0.750000\n                      COLLECTION     0.250000\nHigh School or Below  PAIDOFF        0.741722\n                      COLLECTION     0.258278\nMaster or Above       COLLECTION     0.500000\n                      PAIDOFF        0.500000\ncollege               PAIDOFF        0.765101\n                      COLLECTION     0.234899\nName: loan_status, dtype: float64"
                    },
                    "execution_count": 14,
                    "metadata": {},
                    "output_type": "execute_result"
                }
            ],
            "source": "df.groupby(['education'])['loan_status'].value_counts(normalize=True)"
        },
        {
            "cell_type": "markdown",
            "metadata": {
                "button": false,
                "id": "yDqBE322jcWO",
                "new_sheet": false,
                "run_control": {
                    "read_only": false
                }
            },
            "source": "#### Features before One Hot Encoding\n"
        },
        {
            "cell_type": "code",
            "execution_count": 15,
            "metadata": {
                "button": false,
                "colab": {
                    "base_uri": "https://localhost:8080/",
                    "height": 206
                },
                "id": "D7c4urp-jcWO",
                "new_sheet": false,
                "outputId": "0ac99bf4-c992-40f9-8155-569ab656ba1e",
                "run_control": {
                    "read_only": false
                }
            },
            "outputs": [
                {
                    "data": {
                        "text/html": "<div>\n<style scoped>\n    .dataframe tbody tr th:only-of-type {\n        vertical-align: middle;\n    }\n\n    .dataframe tbody tr th {\n        vertical-align: top;\n    }\n\n    .dataframe thead th {\n        text-align: right;\n    }\n</style>\n<table border=\"1\" class=\"dataframe\">\n  <thead>\n    <tr style=\"text-align: right;\">\n      <th></th>\n      <th>Principal</th>\n      <th>terms</th>\n      <th>age</th>\n      <th>Gender</th>\n      <th>education</th>\n    </tr>\n  </thead>\n  <tbody>\n    <tr>\n      <th>0</th>\n      <td>1000</td>\n      <td>30</td>\n      <td>45</td>\n      <td>0</td>\n      <td>High School or Below</td>\n    </tr>\n    <tr>\n      <th>1</th>\n      <td>1000</td>\n      <td>30</td>\n      <td>33</td>\n      <td>1</td>\n      <td>Bechalor</td>\n    </tr>\n    <tr>\n      <th>2</th>\n      <td>1000</td>\n      <td>15</td>\n      <td>27</td>\n      <td>0</td>\n      <td>college</td>\n    </tr>\n    <tr>\n      <th>3</th>\n      <td>1000</td>\n      <td>30</td>\n      <td>28</td>\n      <td>1</td>\n      <td>college</td>\n    </tr>\n    <tr>\n      <th>4</th>\n      <td>1000</td>\n      <td>30</td>\n      <td>29</td>\n      <td>0</td>\n      <td>college</td>\n    </tr>\n  </tbody>\n</table>\n</div>",
                        "text/plain": "   Principal  terms  age  Gender             education\n0       1000     30   45       0  High School or Below\n1       1000     30   33       1              Bechalor\n2       1000     15   27       0               college\n3       1000     30   28       1               college\n4       1000     30   29       0               college"
                    },
                    "execution_count": 15,
                    "metadata": {},
                    "output_type": "execute_result"
                }
            ],
            "source": "df[['Principal','terms','age','Gender','education']].head()"
        },
        {
            "cell_type": "code",
            "execution_count": 16,
            "metadata": {
                "colab": {
                    "base_uri": "https://localhost:8080/"
                },
                "id": "LU36biEKOhva",
                "outputId": "f582fffc-e783-407e-ce05-8ea5e05eaa29"
            },
            "outputs": [
                {
                    "data": {
                        "text/plain": "High School or Below    151\ncollege                 149\nBechalor                 44\nMaster or Above           2\nName: education, dtype: int64"
                    },
                    "execution_count": 16,
                    "metadata": {},
                    "output_type": "execute_result"
                }
            ],
            "source": "df['education'].value_counts()\n"
        },
        {
            "cell_type": "markdown",
            "metadata": {
                "button": false,
                "id": "jOeafIlfjcWO",
                "new_sheet": false,
                "run_control": {
                    "read_only": false
                }
            },
            "source": "#### Use one hot encoding technique to conver categorical varables to binary variables and append them to the feature Data Frame\n"
        },
        {
            "cell_type": "code",
            "execution_count": 17,
            "metadata": {
                "button": false,
                "colab": {
                    "base_uri": "https://localhost:8080/",
                    "height": 206
                },
                "id": "k1LkybzEjcWO",
                "new_sheet": false,
                "outputId": "74fc900e-874d-4f17-d3a2-ba33bcf378c6",
                "run_control": {
                    "read_only": false
                }
            },
            "outputs": [
                {
                    "data": {
                        "text/html": "<div>\n<style scoped>\n    .dataframe tbody tr th:only-of-type {\n        vertical-align: middle;\n    }\n\n    .dataframe tbody tr th {\n        vertical-align: top;\n    }\n\n    .dataframe thead th {\n        text-align: right;\n    }\n</style>\n<table border=\"1\" class=\"dataframe\">\n  <thead>\n    <tr style=\"text-align: right;\">\n      <th></th>\n      <th>Principal</th>\n      <th>terms</th>\n      <th>age</th>\n      <th>Gender</th>\n      <th>weekend</th>\n      <th>Bechalor</th>\n      <th>High School or Below</th>\n      <th>college</th>\n    </tr>\n  </thead>\n  <tbody>\n    <tr>\n      <th>0</th>\n      <td>1000</td>\n      <td>30</td>\n      <td>45</td>\n      <td>0</td>\n      <td>0</td>\n      <td>0</td>\n      <td>1</td>\n      <td>0</td>\n    </tr>\n    <tr>\n      <th>1</th>\n      <td>1000</td>\n      <td>30</td>\n      <td>33</td>\n      <td>1</td>\n      <td>0</td>\n      <td>1</td>\n      <td>0</td>\n      <td>0</td>\n    </tr>\n    <tr>\n      <th>2</th>\n      <td>1000</td>\n      <td>15</td>\n      <td>27</td>\n      <td>0</td>\n      <td>0</td>\n      <td>0</td>\n      <td>0</td>\n      <td>1</td>\n    </tr>\n    <tr>\n      <th>3</th>\n      <td>1000</td>\n      <td>30</td>\n      <td>28</td>\n      <td>1</td>\n      <td>1</td>\n      <td>0</td>\n      <td>0</td>\n      <td>1</td>\n    </tr>\n    <tr>\n      <th>4</th>\n      <td>1000</td>\n      <td>30</td>\n      <td>29</td>\n      <td>0</td>\n      <td>1</td>\n      <td>0</td>\n      <td>0</td>\n      <td>1</td>\n    </tr>\n  </tbody>\n</table>\n</div>",
                        "text/plain": "   Principal  terms  age  Gender  weekend  Bechalor  High School or Below  \\\n0       1000     30   45       0        0         0                     1   \n1       1000     30   33       1        0         1                     0   \n2       1000     15   27       0        0         0                     0   \n3       1000     30   28       1        1         0                     0   \n4       1000     30   29       0        1         0                     0   \n\n   college  \n0        0  \n1        0  \n2        1  \n3        1  \n4        1  "
                    },
                    "execution_count": 17,
                    "metadata": {},
                    "output_type": "execute_result"
                }
            ],
            "source": "Feature = df[['Principal','terms','age','Gender','weekend']]\nFeature = pd.concat([Feature,pd.get_dummies(df['education'])], axis=1)\nFeature.drop(['Master or Above'], axis = 1,inplace=True)\nFeature.head()\n"
        },
        {
            "cell_type": "markdown",
            "metadata": {
                "button": false,
                "id": "IxDEW0R3jcWP",
                "new_sheet": false,
                "run_control": {
                    "read_only": false
                }
            },
            "source": "### Feature Selection\n"
        },
        {
            "cell_type": "markdown",
            "metadata": {
                "button": false,
                "id": "QDmcnU9OjcWP",
                "new_sheet": false,
                "run_control": {
                    "read_only": false
                }
            },
            "source": "Let's define feature sets, X:\n"
        },
        {
            "cell_type": "code",
            "execution_count": 18,
            "metadata": {
                "button": false,
                "colab": {
                    "base_uri": "https://localhost:8080/",
                    "height": 206
                },
                "id": "UdBiBy0IjcWP",
                "new_sheet": false,
                "outputId": "7a38c2f2-6be4-46d7-f915-668e3b9e2247",
                "run_control": {
                    "read_only": false
                }
            },
            "outputs": [
                {
                    "data": {
                        "text/html": "<div>\n<style scoped>\n    .dataframe tbody tr th:only-of-type {\n        vertical-align: middle;\n    }\n\n    .dataframe tbody tr th {\n        vertical-align: top;\n    }\n\n    .dataframe thead th {\n        text-align: right;\n    }\n</style>\n<table border=\"1\" class=\"dataframe\">\n  <thead>\n    <tr style=\"text-align: right;\">\n      <th></th>\n      <th>Principal</th>\n      <th>terms</th>\n      <th>age</th>\n      <th>Gender</th>\n      <th>weekend</th>\n      <th>Bechalor</th>\n      <th>High School or Below</th>\n      <th>college</th>\n    </tr>\n  </thead>\n  <tbody>\n    <tr>\n      <th>0</th>\n      <td>1000</td>\n      <td>30</td>\n      <td>45</td>\n      <td>0</td>\n      <td>0</td>\n      <td>0</td>\n      <td>1</td>\n      <td>0</td>\n    </tr>\n    <tr>\n      <th>1</th>\n      <td>1000</td>\n      <td>30</td>\n      <td>33</td>\n      <td>1</td>\n      <td>0</td>\n      <td>1</td>\n      <td>0</td>\n      <td>0</td>\n    </tr>\n    <tr>\n      <th>2</th>\n      <td>1000</td>\n      <td>15</td>\n      <td>27</td>\n      <td>0</td>\n      <td>0</td>\n      <td>0</td>\n      <td>0</td>\n      <td>1</td>\n    </tr>\n    <tr>\n      <th>3</th>\n      <td>1000</td>\n      <td>30</td>\n      <td>28</td>\n      <td>1</td>\n      <td>1</td>\n      <td>0</td>\n      <td>0</td>\n      <td>1</td>\n    </tr>\n    <tr>\n      <th>4</th>\n      <td>1000</td>\n      <td>30</td>\n      <td>29</td>\n      <td>0</td>\n      <td>1</td>\n      <td>0</td>\n      <td>0</td>\n      <td>1</td>\n    </tr>\n  </tbody>\n</table>\n</div>",
                        "text/plain": "   Principal  terms  age  Gender  weekend  Bechalor  High School or Below  \\\n0       1000     30   45       0        0         0                     1   \n1       1000     30   33       1        0         1                     0   \n2       1000     15   27       0        0         0                     0   \n3       1000     30   28       1        1         0                     0   \n4       1000     30   29       0        1         0                     0   \n\n   college  \n0        0  \n1        0  \n2        1  \n3        1  \n4        1  "
                    },
                    "execution_count": 18,
                    "metadata": {},
                    "output_type": "execute_result"
                }
            ],
            "source": "X = Feature\nX[0:5]"
        },
        {
            "cell_type": "markdown",
            "metadata": {
                "button": false,
                "id": "bHsZYQivjcWP",
                "new_sheet": false,
                "run_control": {
                    "read_only": false
                }
            },
            "source": "What are our lables?\n"
        },
        {
            "cell_type": "code",
            "execution_count": 19,
            "metadata": {
                "button": false,
                "colab": {
                    "base_uri": "https://localhost:8080/"
                },
                "id": "2pgfqu45jcWQ",
                "new_sheet": false,
                "outputId": "b9b6c972-72ef-4184-fff2-b2050a2765f7",
                "run_control": {
                    "read_only": false
                }
            },
            "outputs": [
                {
                    "data": {
                        "text/plain": "array(['PAIDOFF', 'PAIDOFF', 'PAIDOFF', 'PAIDOFF', 'PAIDOFF'],\n      dtype=object)"
                    },
                    "execution_count": 19,
                    "metadata": {},
                    "output_type": "execute_result"
                }
            ],
            "source": "y = df['loan_status'].values\ny[0:5]"
        },
        {
            "cell_type": "markdown",
            "metadata": {
                "button": false,
                "id": "ADw1t5SIjcWQ",
                "new_sheet": false,
                "run_control": {
                    "read_only": false
                }
            },
            "source": "## Normalize Data\n"
        },
        {
            "cell_type": "markdown",
            "metadata": {
                "button": false,
                "id": "GXxwS-0yjcWQ",
                "new_sheet": false,
                "run_control": {
                    "read_only": false
                }
            },
            "source": "Data Standardization give data zero mean and unit variance (technically should be done after train test split)\n"
        },
        {
            "cell_type": "code",
            "execution_count": 20,
            "metadata": {
                "button": false,
                "colab": {
                    "base_uri": "https://localhost:8080/"
                },
                "id": "TsWFNau2jcWQ",
                "new_sheet": false,
                "outputId": "09774bf4-d72c-4ccd-d173-2ea58be2738c",
                "run_control": {
                    "read_only": false
                }
            },
            "outputs": [
                {
                    "data": {
                        "text/plain": "array([[ 0.51578458,  0.92071769,  2.33152555, -0.42056004, -1.20577805,\n        -0.38170062,  1.13639374, -0.86968108],\n       [ 0.51578458,  0.92071769,  0.34170148,  2.37778177, -1.20577805,\n         2.61985426, -0.87997669, -0.86968108],\n       [ 0.51578458, -0.95911111, -0.65321055, -0.42056004, -1.20577805,\n        -0.38170062, -0.87997669,  1.14984679],\n       [ 0.51578458,  0.92071769, -0.48739188,  2.37778177,  0.82934003,\n        -0.38170062, -0.87997669,  1.14984679],\n       [ 0.51578458,  0.92071769, -0.3215732 , -0.42056004,  0.82934003,\n        -0.38170062, -0.87997669,  1.14984679]])"
                    },
                    "execution_count": 20,
                    "metadata": {},
                    "output_type": "execute_result"
                }
            ],
            "source": "X= preprocessing.StandardScaler().fit(X).transform(X)\nX[0:5]"
        },
        {
            "cell_type": "markdown",
            "metadata": {
                "button": false,
                "id": "IBtmMbEojcWR",
                "new_sheet": false,
                "run_control": {
                    "read_only": false
                }
            },
            "source": "# Classification\n"
        },
        {
            "cell_type": "markdown",
            "metadata": {
                "button": false,
                "id": "68bLgp1KjcWR",
                "new_sheet": false,
                "run_control": {
                    "read_only": false
                }
            },
            "source": "Now, it is your turn, use the training set to build an accurate model. Then use the test set to report the accuracy of the model\nYou should use the following algorithm:\n\n*   K Nearest Neighbor(KNN)\n*   Decision Tree\n*   Support Vector Machine\n*   Logistic Regression\n\n\\__ Notice:\\__\n\n*   You can go above and change the pre-processing, feature selection, feature-extraction, and so on, to make a better model.\n*   You should use either scikit-learn, Scipy or Numpy libraries for developing the classification algorithms.\n*   You should include the code of the algorithm in the following cells.\n"
        },
        {
            "cell_type": "markdown",
            "metadata": {
                "id": "i1ykfArozNxK"
            },
            "source": "#The following is an attempt to get a better classification by modifing the preprocessing of the data set. Note that whatever preprocessing is used must be the same used for the final evaluation of final test data."
        },
        {
            "cell_type": "code",
            "execution_count": 21,
            "metadata": {
                "colab": {
                    "base_uri": "https://localhost:8080/"
                },
                "id": "2-k0-4P8rz6E",
                "outputId": "662d7646-7a83-4752-a809-62400428d114"
            },
            "outputs": [
                {
                    "name": "stdout",
                    "output_type": "stream",
                    "text": "   Principal  age  Gender  weekend  Bechalor  High School or Below  college  \\\n0       1000   45       0        0         0                     1        0   \n1       1000   33       1        0         1                     0        0   \n2       1000   27       0        0         0                     0        1   \n3       1000   28       1        1         0                     0        1   \n4       1000   29       0        1         0                     0        1   \n\n   15-day  30-day  7-day  \n0       0       1      0  \n1       0       1      0  \n2       1       0      0  \n3       0       1      0  \n4       0       1      0  \n     Principal  age  Gender  weekend  Bechalor  High School or Below  college  \\\n341        800   32       0        1         0                     1        0   \n342       1000   25       0        1         0                     1        0   \n343        800   39       0        0         0                     0        1   \n344       1000   28       0        0         0                     0        1   \n345       1000   26       0        0         0                     0        1   \n\n     15-day  30-day  7-day  \n341       1       0      0  \n342       0       1      0  \n343       1       0      0  \n344       0       1      0  \n345       0       1      0  \n"
                }
            ],
            "source": "#This is an attempt to get a better classification by changing the preprocessing of the data set:\n#Note whatever preprocessing is settled-on should be used for the final evaluation of final test data.\n\n#But now treating the terms of the loans as categorical, rather than continuous since there are only 7-day, 15-day, or 30-day day loans.\n\n#The following is done as an intermediate step to get rid of a warning from the preprocessing.StandardScaler related to types.\ndf['terms'].replace(to_replace=[7,15,30], value=[\"7-day\",\"15-day\",\"30-day\"],inplace=True)\n\n#Now redefining the features to use by one-hot encoding the loan terms:\nFeature = df[['Principal','age','Gender','weekend']]\nFeature = pd.concat([Feature,pd.get_dummies(df['education'])], axis=1)\nFeature.drop(['Master or Above'], axis = 1,inplace=True)\n\n# Now one-hot encoding the three different loan terms:\nFeature = pd.concat([Feature,pd.get_dummies(df['terms'])], axis=1)\n\ny = df['loan_status'].values #Redundant step but repeated here for clarity.\n\nX = Feature\nprint(Feature.head())\nprint(Feature.tail())\n\nX = preprocessing.StandardScaler().fit(X).transform(X)"
        },
        {
            "cell_type": "markdown",
            "metadata": {
                "id": "lHrmjgsojcWR"
            },
            "source": "# K Nearest Neighbor(KNN)\n\nNotice: You should find the best k to build the model with the best accuracy.\\\n**warning:** You should not use the **loan_test.csv** for finding the best k, however, you can split your train_loan.csv into train and test to find the best **k**.\n"
        },
        {
            "cell_type": "markdown",
            "metadata": {
                "id": "y-GkCsXZ0AHX"
            },
            "source": "# See the above note on modified preprocessing of the data set."
        },
        {
            "cell_type": "code",
            "execution_count": 22,
            "metadata": {
                "colab": {
                    "base_uri": "https://localhost:8080/"
                },
                "id": "PDteXXyb-iij",
                "outputId": "ca0af296-f3d9-4b7e-bd47-75b55726bdef"
            },
            "outputs": [
                {
                    "name": "stdout",
                    "output_type": "stream",
                    "text": "Train set: (276, 10) (276,)\nTest set: (70, 10) (70,)\n"
                }
            ],
            "source": "#Importing the function for splitting the training data so that a best k can be found:\nfrom sklearn.model_selection import train_test_split\n#Splitting the training data so that a best k can be found:\nX_train, X_test, y_train, y_test = train_test_split(X, y, test_size=0.2, random_state=4)\nprint('Train set:', X_train.shape, y_train.shape)\nprint('Test set:', X_test.shape, y_test.shape)\n"
        },
        {
            "cell_type": "code",
            "execution_count": 23,
            "metadata": {
                "id": "_6qshuF4oh3x"
            },
            "outputs": [],
            "source": "#Importing the needed functions to for KNN modeling:\n#Importing the KNN classifier:\nfrom sklearn.neighbors import KNeighborsClassifier\n#Importing the function for computing the accuracy:\nfrom sklearn import metrics\n"
        },
        {
            "cell_type": "code",
            "execution_count": 24,
            "metadata": {
                "id": "t83N8xuhC9yU"
            },
            "outputs": [],
            "source": "#Loop through several possible values for k to find the one with best accuracy:\n#Note that we train on the training data and evaluate on the test data, \n#both of which were split form the original training set of data.\nKs = 10\nmean_acc = np.zeros((Ks-1))\n\nfor n in range(1,Ks):\n  #Training the model and then prediciting:\n  neigh = KNeighborsClassifier(n_neighbors=n).fit(X_train,y_train)\n  #Predicting with the trained model using the test data:\n  yhat = neigh.predict(X_test)\n  mean_acc[n-1] = metrics.accuracy_score(y_test, yhat)"
        },
        {
            "cell_type": "code",
            "execution_count": 25,
            "metadata": {
                "colab": {
                    "base_uri": "https://localhost:8080/"
                },
                "id": "Gxl488hxjcWS",
                "outputId": "c4da69b5-7fe4-4370-bccd-2f3c36b49f9e"
            },
            "outputs": [
                {
                    "data": {
                        "text/plain": "array([0.65714286, 0.61428571, 0.74285714, 0.7       , 0.75714286,\n       0.71428571, 0.8       , 0.77142857, 0.74285714])"
                    },
                    "execution_count": 25,
                    "metadata": {},
                    "output_type": "execute_result"
                }
            ],
            "source": "mean_acc[0:10]"
        },
        {
            "cell_type": "code",
            "execution_count": 26,
            "metadata": {
                "colab": {
                    "base_uri": "https://localhost:8080/"
                },
                "id": "VUIQmVNkC8pF",
                "outputId": "4993a6f9-671d-4437-fa84-1e33da31cff1"
            },
            "outputs": [
                {
                    "name": "stdout",
                    "output_type": "stream",
                    "text": "The best accuracy was 0.8 with k= 7\n"
                }
            ],
            "source": "#Printing the best accuracy:\nk_best = mean_acc.argmax()+1\nprint(\"The best accuracy was\", mean_acc.max(), \"with k=\", k_best)"
        },
        {
            "cell_type": "code",
            "execution_count": 27,
            "metadata": {
                "id": "J52vctY-KYl2"
            },
            "outputs": [],
            "source": "# Now prepare the best knn classifier using the best k value by training on the entire unsplit training set. \n# This model will be used later to report metrics on the final evaluation test which will be loaded below.\nneigh_k_best = KNeighborsClassifier(n_neighbors=k_best).fit(X,y)\nyhat_k_best = neigh_k_best.predict(X_test)"
        },
        {
            "cell_type": "code",
            "execution_count": 28,
            "metadata": {
                "colab": {
                    "base_uri": "https://localhost:8080/"
                },
                "id": "1ugFa9Xku7Iv",
                "outputId": "cb7ba46f-497b-4fa4-c095-3037b2d45a7a"
            },
            "outputs": [
                {
                    "name": "stdout",
                    "output_type": "stream",
                    "text": "KNN model accuracy using k = 7 :  0.8142857142857143 \n\nKNN model weighted F1 score using k = 7 :  0.7915804002760524 \n\nKNN model weighted Jaccard score using k = 7 :  0.6880952380952381 \n\nConfusion matrix using KNN with k =  7 : \n [[ 5 10]\n [ 3 52]] \n\nClassification report using KNN with k =  7 : \n               precision    recall  f1-score   support\n\n  COLLECTION       0.62      0.33      0.43        15\n     PAIDOFF       0.84      0.95      0.89        55\n\n    accuracy                           0.81        70\n   macro avg       0.73      0.64      0.66        70\nweighted avg       0.79      0.81      0.79        70\n \n\n"
                }
            ],
            "source": "#Importing the functions to evaluate the the KNN classifier:\nfrom sklearn.metrics import classification_report, confusion_matrix, f1_score, jaccard_score\n\n#Evaluating accuracy with several metrics in turn:\nyhat_KNN_accuracy = metrics.accuracy_score(y_test, yhat_k_best)\nyhat_KNN_F1 = f1_score(y_test, yhat_k_best, average='weighted')\nyhat_KNN_jaccard = jaccard_score(y_test, yhat_k_best, average='weighted')\nyhat_KNN_cnf_matrix = confusion_matrix(y_test, yhat_k_best)\nyhat_KNN_report = classification_report(y_test, yhat_k_best)\n\n\nprint(\"KNN model accuracy using k =\", k_best, \": \", yhat_KNN_accuracy, '\\n')\nprint(\"KNN model weighted F1 score using k =\", k_best, \": \", yhat_KNN_F1, '\\n')\nprint(\"KNN model weighted Jaccard score using k =\", k_best, \": \",yhat_KNN_jaccard, '\\n')\n\n#Following provides similar metrics:\nprint(\"Confusion matrix using KNN with k = \", k_best, \": \\n\", yhat_KNN_cnf_matrix, '\\n')\nprint(\"Classification report using KNN with k = \", k_best, \": \\n\", yhat_KNN_report, '\\n')"
        },
        {
            "cell_type": "markdown",
            "metadata": {
                "id": "_c5uF0ohjcWS"
            },
            "source": "# Decision Tree\n"
        },
        {
            "cell_type": "code",
            "execution_count": 29,
            "metadata": {
                "id": "_2J5GDyIjcWS"
            },
            "outputs": [],
            "source": "#Importing the needed functions to for Decision Tree modeling:\n#Importing the Decision Tree classifier:\nfrom sklearn.tree import DecisionTreeClassifier\nimport sklearn.tree as tree"
        },
        {
            "cell_type": "code",
            "execution_count": 30,
            "metadata": {
                "colab": {
                    "base_uri": "https://localhost:8080/"
                },
                "id": "dPcoVxXepIPI",
                "outputId": "f7279cd0-01cc-4606-a3ad-80f8b5d58c19"
            },
            "outputs": [
                {
                    "data": {
                        "text/plain": "DecisionTreeClassifier(criterion='entropy', max_depth=6)"
                    },
                    "execution_count": 30,
                    "metadata": {},
                    "output_type": "execute_result"
                }
            ],
            "source": "#Setting up the Decision Tree classifer:\nmax_depth=6\nloanTree = DecisionTreeClassifier(criterion='entropy', max_depth=max_depth)\n\n#Fitting the decision tree model to the same training set used for KNN above:\nloanTree.fit(X_train, y_train)\n"
        },
        {
            "cell_type": "code",
            "execution_count": 31,
            "metadata": {
                "colab": {
                    "base_uri": "https://localhost:8080/"
                },
                "id": "N9C_LAWZjcWS",
                "outputId": "9c1fa87e-5cdf-4eff-dd2c-4711933d653b"
            },
            "outputs": [
                {
                    "name": "stdout",
                    "output_type": "stream",
                    "text": "['PAIDOFF' 'PAIDOFF' 'PAIDOFF' 'PAIDOFF' 'PAIDOFF']\n['PAIDOFF' 'PAIDOFF' 'PAIDOFF' 'PAIDOFF' 'PAIDOFF']\n"
                }
            ],
            "source": "#Making predictions:\nyhat_predTree = loanTree.predict(X_test)\nprint(yhat_predTree[0:5])\nprint(yhat_predTree[0:5])\n"
        },
        {
            "cell_type": "code",
            "execution_count": 32,
            "metadata": {
                "colab": {
                    "base_uri": "https://localhost:8080/"
                },
                "id": "ZBZkSuugtmPc",
                "outputId": "d5cc170d-f746-4f4e-deae-2db853e4d805"
            },
            "outputs": [
                {
                    "name": "stdout",
                    "output_type": "stream",
                    "text": "Decision Tree model accuracy using max_depth 6 :  0.7714285714285715 \n\nDecision Tree weighted F1 score using  max_depth 6 :  0.7064793130366899 \n\nDecision Tree weighted Jaccard score using max_depth 6 :  0.6161247107538668 \n\nConfusion matrix using KNN with max_depth 6 : \n [[ 1 14]\n [ 2 53]] \n\nClassification report using KNN with max_depth 6 : \n               precision    recall  f1-score   support\n\n  COLLECTION       0.33      0.07      0.11        15\n     PAIDOFF       0.79      0.96      0.87        55\n\n    accuracy                           0.77        70\n   macro avg       0.56      0.52      0.49        70\nweighted avg       0.69      0.77      0.71        70\n \n\n"
                }
            ],
            "source": "#Evaluating accuracy with several metrics in turn:\nyhat_predTree_accuracy = metrics.accuracy_score(y_test, yhat_predTree)\nyhat_predTree_F1 = f1_score(y_test, yhat_predTree, average='weighted')\nyhat_predTree_jaccard = jaccard_score(y_test, yhat_predTree, average='weighted')\n\nyhat_predTree_cnf_matrix = confusion_matrix(y_test, yhat_predTree)\nyhat_predTree_report = classification_report(y_test, yhat_predTree)\n\n\nprint(\"Decision Tree model accuracy using max_depth\", max_depth, \": \", yhat_predTree_accuracy, '\\n')\nprint(\"Decision Tree weighted F1 score using  max_depth\", max_depth, \": \", yhat_predTree_F1, '\\n')\nprint(\"Decision Tree weighted Jaccard score using max_depth\", max_depth, \": \", yhat_predTree_jaccard, '\\n')\n\n#Following provides similar metrics:\nprint(\"Confusion matrix using KNN with max_depth\", max_depth, \": \\n\", yhat_predTree_cnf_matrix, '\\n')\nprint(\"Classification report using KNN with max_depth\", max_depth, \": \\n\", yhat_predTree_report, '\\n')"
        },
        {
            "cell_type": "code",
            "execution_count": 33,
            "metadata": {
                "colab": {
                    "base_uri": "https://localhost:8080/",
                    "height": 265
                },
                "id": "o3-JfDRTu_1W",
                "outputId": "c2183434-f183-4b3c-c85b-7eb3fa69f490"
            },
            "outputs": [
                {
                    "data": {
                        "text/plain": "<function matplotlib.pyplot.show(close=None, block=None)>"
                    },
                    "execution_count": 33,
                    "metadata": {},
                    "output_type": "execute_result"
                },
                {
                    "data": {
                        "image/png": "[encoded data removed]",
                        "text/plain": "<Figure size 432x288 with 1 Axes>"
                    },
                    "metadata": {
                        "needs_background": "light"
                    },
                    "output_type": "display_data"
                }
            ],
            "source": "import matplotlib.pyplot as plt\ntree.plot_tree(loanTree)\nplt.show\n"
        },
        {
            "cell_type": "markdown",
            "metadata": {
                "id": "0kPn0onbjcWT"
            },
            "source": "# Support Vector Machine\n"
        },
        {
            "cell_type": "code",
            "execution_count": 34,
            "metadata": {
                "id": "KTGA5a4BjcWT"
            },
            "outputs": [],
            "source": "#Importing the needed functions for SVM modeling:\n#Importing the SVM classifier:\nfrom sklearn import svm"
        },
        {
            "cell_type": "code",
            "execution_count": 35,
            "metadata": {
                "colab": {
                    "base_uri": "https://localhost:8080/"
                },
                "id": "rBG0c9iSjcWT",
                "outputId": "48cb771e-ea84-4b40-e9cc-8102ba76e501"
            },
            "outputs": [
                {
                    "data": {
                        "text/plain": "SVC(kernel='poly')"
                    },
                    "execution_count": 35,
                    "metadata": {},
                    "output_type": "execute_result"
                }
            ],
            "source": "#Setting up SVM model with several kernels to see which works best:\nsvm_rbf = svm.SVC(kernel='rbf')\nsvm_sigmoid = svm.SVC(kernel='sigmoid')\nsvm_poly = svm.SVC(kernel='poly')\n\n#Training the SVM models\nsvm_rbf.fit(X_train, y_train)\nsvm_sigmoid.fit(X_train, y_train)\nsvm_poly.fit(X_train, y_train)"
        },
        {
            "cell_type": "code",
            "execution_count": 36,
            "metadata": {
                "id": "XpL-WMd9jcWT"
            },
            "outputs": [],
            "source": "#Making predictions using each of the SVM classifiers for comparison:\nyhat_rbf = svm_rbf.predict(X_test)\nyhat_sigmoid = svm_sigmoid.predict(X_test)\nyhat_poly = svm_poly.predict(X_test)"
        },
        {
            "cell_type": "code",
            "execution_count": 37,
            "metadata": {
                "id": "6WGeyBqL2gqX"
            },
            "outputs": [],
            "source": "#Importing the functions to evaluate the best SVM kernel\nfrom sklearn.metrics import classification_report, confusion_matrix, f1_score, jaccard_score"
        },
        {
            "cell_type": "code",
            "execution_count": 38,
            "metadata": {
                "colab": {
                    "base_uri": "https://localhost:8080/"
                },
                "id": "BwqksaRpxpmu",
                "outputId": "12931c6a-ef99-43f8-f57f-1ab059a2ec4c"
            },
            "outputs": [
                {
                    "name": "stdout",
                    "output_type": "stream",
                    "text": "SVM model accuracy using rbf kernel:  0.7428571428571429 \n\nSVM model weighted F1 score using rbf kernel:  0.7275882012724117 \n\nSVM model weighted Jaccard score using rbf kernel:  0.6103896103896104 \n\nConfusion matrix using rbf kernel: \n [[ 4 11]\n [ 7 48]] \n\nClassification report using rbf kernel: \n               precision    recall  f1-score   support\n\n  COLLECTION       0.36      0.27      0.31        15\n     PAIDOFF       0.81      0.87      0.84        55\n\n    accuracy                           0.74        70\n   macro avg       0.59      0.57      0.57        70\nweighted avg       0.72      0.74      0.73        70\n \n\n"
                }
            ],
            "source": "#Evaluating each SVM model based on different kernels in turn:\n#First the rbf kernel:\nyhat_rbf_accuracy = metrics.accuracy_score(y_test, yhat_rbf)\n\nyhat_rbf_F1 = f1_score(y_test, yhat_rbf, average='weighted')\nyhat_rbf_jaccard = jaccard_score(y_test, yhat_rbf, average='weighted')\n\nyhat_rbf_cnf_matrix = confusion_matrix(y_test,yhat_rbf)\nyhat_rbf_report = classification_report(y_test, yhat_rbf)\n\nprint(\"SVM model accuracy using rbf kernel: \", yhat_rbf_accuracy, '\\n')\nprint(\"SVM model weighted F1 score using rbf kernel: \", yhat_rbf_F1, '\\n')\nprint(\"SVM model weighted Jaccard score using rbf kernel: \", yhat_rbf_jaccard, '\\n')\n\n#Following provides similar metrics:\nprint(\"Confusion matrix using rbf kernel: \\n\", yhat_rbf_cnf_matrix, '\\n')\nprint(\"Classification report using rbf kernel: \\n\", yhat_rbf_report, '\\n')\n\n"
        },
        {
            "cell_type": "code",
            "execution_count": 39,
            "metadata": {
                "colab": {
                    "base_uri": "https://localhost:8080/"
                },
                "id": "dXqtkGz20VBI",
                "outputId": "5fb65743-f767-4270-cb32-e9385b0edb52"
            },
            "outputs": [
                {
                    "name": "stdout",
                    "output_type": "stream",
                    "text": "SVM model accuracy using sigmoid kernel:  0.7428571428571429 \n\nSVM model weighted F1 score using sigmoid kernel:  0.7048206031256878 \n\nSVM model weighted Jaccard score using sigmoid kernel:  0.5991596638655463 \n\nConfusion matrix using sigmoid kernel: \n [[ 2 13]\n [ 5 50]] \n\nClassification report using sigmoidf kernel: \n               precision    recall  f1-score   support\n\n  COLLECTION       0.29      0.13      0.18        15\n     PAIDOFF       0.79      0.91      0.85        55\n\n    accuracy                           0.74        70\n   macro avg       0.54      0.52      0.51        70\nweighted avg       0.68      0.74      0.70        70\n \n\n"
                }
            ],
            "source": "#Evaluating each SVM model based on different kernels in turn:\n#Next the sigmoid kernel:\nyhat_sigmoid_accuracy = metrics.accuracy_score(y_test, yhat_sigmoid)\nyhat_sigmoid_F1 = f1_score(y_test, yhat_sigmoid, average='weighted')\nyhat_sigmoid_jaccard = jaccard_score(y_test, yhat_sigmoid, average='weighted')\nyhat_sigmoid_cnf_matrix = confusion_matrix(y_test,yhat_sigmoid)\nyhat_sigmoid_report = classification_report(y_test, yhat_sigmoid)\n\nprint(\"SVM model accuracy using sigmoid kernel: \", yhat_sigmoid_accuracy, '\\n')\nprint(\"SVM model weighted F1 score using sigmoid kernel: \", yhat_sigmoid_F1, '\\n')\nprint(\"SVM model weighted Jaccard score using sigmoid kernel: \", yhat_sigmoid_jaccard, '\\n')\n\n#Following provides similar metrics:\nprint(\"Confusion matrix using sigmoid kernel: \\n\", yhat_sigmoid_cnf_matrix, '\\n')\nprint(\"Classification report using sigmoidf kernel: \\n\", yhat_sigmoid_report, '\\n')"
        },
        {
            "cell_type": "code",
            "execution_count": 40,
            "metadata": {
                "colab": {
                    "base_uri": "https://localhost:8080/"
                },
                "id": "UDDCT6tN0WOG",
                "outputId": "714673d1-905e-46a1-e987-6a1b8a40307c"
            },
            "outputs": [
                {
                    "name": "stdout",
                    "output_type": "stream",
                    "text": "SVM model accuracy using poly kernel:  0.7571428571428571 \n\nSVM model weighted F1 score using poly kernel:  0.6771196283391405 \n\nSVM model weighted Jaccard score using poly kernel:  0.5948979591836734 \n\nConfusion matrix using poly kernel: \n [[ 0 15]\n [ 2 53]] \n\nClassification report using poly kernel: \n               precision    recall  f1-score   support\n\n  COLLECTION       0.00      0.00      0.00        15\n     PAIDOFF       0.78      0.96      0.86        55\n\n    accuracy                           0.76        70\n   macro avg       0.39      0.48      0.43        70\nweighted avg       0.61      0.76      0.68        70\n \n\n"
                }
            ],
            "source": "#Evaluating each SVM model based on different kernels in turn:\n#Last the poly kernel:\nyhat_poly_accuracy = metrics.accuracy_score(y_test, yhat_poly)\nyhat_poly_F1 = f1_score(y_test, yhat_poly, average='weighted')\nyhat_poly_jaccard = jaccard_score(y_test, yhat_poly, average='weighted')\nyhat_poly_cnf_matrix = confusion_matrix(y_test,yhat_poly)\nyhat_poly_report = classification_report(y_test, yhat_poly)\n\nprint(\"SVM model accuracy using poly kernel: \", yhat_poly_accuracy, '\\n')\nprint(\"SVM model weighted F1 score using poly kernel: \", yhat_poly_F1, '\\n')\nprint(\"SVM model weighted Jaccard score using poly kernel: \", yhat_poly_jaccard, '\\n')\n\n#Following provides similar metrics:\nprint(\"Confusion matrix using poly kernel: \\n\", yhat_poly_cnf_matrix, '\\n')\nprint(\"Classification report using poly kernel: \\n\", yhat_poly_report, '\\n')"
        },
        {
            "cell_type": "markdown",
            "metadata": {
                "id": "MzMXmvYVjcWT"
            },
            "source": "# Logistic Regression\n"
        },
        {
            "cell_type": "code",
            "execution_count": 41,
            "metadata": {
                "id": "tR4ZZ-wZjcWT"
            },
            "outputs": [],
            "source": "#Importing the needed function for Logistic Regresion modeling\nfrom sklearn.linear_model import LogisticRegression"
        },
        {
            "cell_type": "code",
            "execution_count": 42,
            "metadata": {
                "id": "B0qBlXSwjcWU"
            },
            "outputs": [],
            "source": "#Fit Logistic Regreesion model using train data:\n#LR = LogisticRegression(C=0.01, solver='liblinear').fit(X_train, y_train)\nLR = LogisticRegression(C=0.5, solver='saga').fit(X_train, y_train)"
        },
        {
            "cell_type": "code",
            "execution_count": 43,
            "metadata": {
                "id": "8maWIzBljcWU"
            },
            "outputs": [],
            "source": "#Predict Logistic Regression classification using test data:\nyhat_lr = LR.predict(X_test)\n"
        },
        {
            "cell_type": "code",
            "execution_count": 44,
            "metadata": {
                "colab": {
                    "base_uri": "https://localhost:8080/"
                },
                "id": "xmkvSDWMhKIh",
                "outputId": "94fdcbb2-934b-4460-e0ba-e60f76635938"
            },
            "outputs": [
                {
                    "name": "stdout",
                    "output_type": "stream",
                    "text": "   P(Y=0|X)    P(Y=1|X)\nFirst 5\n[[0.50248432 0.49751568]\n [0.42369368 0.57630632]\n [0.03104434 0.96895566]\n [0.04236384 0.95763616]\n [0.02805027 0.97194973]]\nLast 5\n[[0.43020253 0.56979747]\n [0.03449825 0.96550175]\n [0.21172741 0.78827259]\n [0.33423755 0.66576245]\n [0.03423175 0.96576825]]\n"
                }
            ],
            "source": "# Examine the first 5 probability estimates, and then the last 5 probability estimates:\nyhat_lr_prob = LR.predict_proba(X_test)\n\nprint( \"   P(Y=0|X)    P(Y=1|X)\")\nprint('First 5')\nprint(yhat_lr_prob[0:5])\nprint('Last 5')\nprint(yhat_lr_prob[-5:])"
        },
        {
            "cell_type": "code",
            "execution_count": 45,
            "metadata": {
                "colab": {
                    "base_uri": "https://localhost:8080/"
                },
                "id": "6iS_Qhh5ERvj",
                "outputId": "94f2b3bc-2f9e-4c97-8849-43c94839cdb5"
            },
            "outputs": [
                {
                    "name": "stdout",
                    "output_type": "stream",
                    "text": "Log loss:  0.4812095783741066 \n\n"
                }
            ],
            "source": "#Computing log_loss\nfrom sklearn.metrics import log_loss\nyhat_log_loss = log_loss(y_test, yhat_lr_prob)\nprint(\"Log loss: \", log_loss(y_test, yhat_lr_prob), '\\n')"
        },
        {
            "cell_type": "code",
            "execution_count": 46,
            "metadata": {
                "colab": {
                    "base_uri": "https://localhost:8080/"
                },
                "id": "MV9PAuuLjSuH",
                "outputId": "27f68889-8d4a-4bc4-91ee-f666de9ebf8d"
            },
            "outputs": [
                {
                    "name": "stdout",
                    "output_type": "stream",
                    "text": "Logistic Regression accuracy:  0.7428571428571429 \n\nLogistic Regression model weighted F1 score:  0.7048206031256878 \n\nLogistic Regression model weighted Jaccard score:  0.5991596638655463 \n\nConfusion matrix using Logistic Regression: \n [[ 2 13]\n [ 5 50]] \n\nClassification report using Logistic Regression: \n               precision    recall  f1-score   support\n\n  COLLECTION       0.29      0.13      0.18        15\n     PAIDOFF       0.79      0.91      0.85        55\n\n    accuracy                           0.74        70\n   macro avg       0.54      0.52      0.51        70\nweighted avg       0.68      0.74      0.70        70\n \n\n"
                }
            ],
            "source": "#Evaluating the Logistic Regression model based with several metrics:\nyhat_lr_accuracy = metrics.accuracy_score(y_test, yhat_lr)\nyhat_lr_F1 = f1_score(y_test, yhat_lr, average='weighted')\nyhat_lr_jaccard = jaccard_score(y_test, yhat_lr, average='weighted')\nprint(\"Logistic Regression accuracy: \", yhat_lr_accuracy, '\\n')\nprint(\"Logistic Regression model weighted F1 score: \", yhat_lr_F1, '\\n')\nprint(\"Logistic Regression model weighted Jaccard score: \", yhat_lr_jaccard, '\\n')\n\nyhat_lr_cnf_matrix = confusion_matrix(y_test,yhat_lr)\nyhat_lr_report = classification_report(y_test, yhat_lr)\n\n#Following provides similar metrics:\nprint(\"Confusion matrix using Logistic Regression: \\n\", yhat_lr_cnf_matrix, '\\n')\nprint(\"Classification report using Logistic Regression: \\n\", yhat_lr_report, '\\n')"
        },
        {
            "cell_type": "code",
            "execution_count": null,
            "metadata": {
                "id": "MDjOIp4NDfqp"
            },
            "outputs": [],
            "source": ""
        },
        {
            "cell_type": "markdown",
            "metadata": {
                "id": "KuhkYltijcWU"
            },
            "source": "# Model Evaluation using Test set\n"
        },
        {
            "cell_type": "code",
            "execution_count": 47,
            "metadata": {
                "id": "awz1xm_LjcWU"
            },
            "outputs": [],
            "source": "# #These were already imported above for evaluating the various classifers\n# from sklearn.metrics import jaccard_score\n# from sklearn.metrics import f1_score\n# from sklearn.metrics import log_loss\n"
        },
        {
            "cell_type": "markdown",
            "metadata": {
                "id": "Ff7UCrU1jcWU"
            },
            "source": "First, download and load the test set:\n"
        },
        {
            "cell_type": "code",
            "execution_count": 48,
            "metadata": {
                "colab": {
                    "base_uri": "https://localhost:8080/"
                },
                "id": "d02IMXVMjcWV",
                "outputId": "fabfaf8f-de8a-4fb4-db79-4f9d3c49bc26"
            },
            "outputs": [
                {
                    "name": "stdout",
                    "output_type": "stream",
                    "text": "--2022-06-15 21:20:40--  https://s3-api.us-geo.objectstorage.softlayer.net/cf-courses-data/CognitiveClass/ML0101ENv3/labs/loan_test.csv\nResolving s3-api.us-geo.objectstorage.softlayer.net (s3-api.us-geo.objectstorage.softlayer.net)... 67.228.254.196\nConnecting to s3-api.us-geo.objectstorage.softlayer.net (s3-api.us-geo.objectstorage.softlayer.net)|67.228.254.196|:443... connected.\nHTTP request sent, awaiting response... 200 OK\nLength: 3642 (3.6K) [text/csv]\nSaving to: \u2018loan_test.csv\u2019\n\nloan_test.csv       100%[===================>]   3.56K  --.-KB/s    in 0s      \n\n2022-06-15 21:20:40 (88.8 MB/s) - \u2018loan_test.csv\u2019 saved [3642/3642]\n\n"
                }
            ],
            "source": "!wget -O loan_test.csv https://s3-api.us-geo.objectstorage.softlayer.net/cf-courses-data/CognitiveClass/ML0101ENv3/labs/loan_test.csv"
        },
        {
            "cell_type": "markdown",
            "metadata": {
                "button": false,
                "id": "RvKIfDpVjcWV",
                "new_sheet": false,
                "run_control": {
                    "read_only": false
                }
            },
            "source": "### Load Test set for evaluation\n"
        },
        {
            "cell_type": "code",
            "execution_count": 49,
            "metadata": {
                "button": false,
                "id": "ORmepqUdjcWV",
                "new_sheet": false,
                "run_control": {
                    "read_only": false
                }
            },
            "outputs": [],
            "source": "test_df = pd.read_csv('loan_test.csv')"
        },
        {
            "cell_type": "markdown",
            "metadata": {
                "id": "BRdxKwl8tNky"
            },
            "source": "## Perform the several preprocessing and feature extraction steps needed to match the preprocessing and feature extraction used to fit the models"
        },
        {
            "cell_type": "code",
            "execution_count": 50,
            "metadata": {
                "id": "Nnm3vgkajcWV"
            },
            "outputs": [],
            "source": "#Convert to date time object as performed on the original data\ntest_df['due_date'] = pd.to_datetime(df['due_date'])\ntest_df['effective_date'] = pd.to_datetime(df['effective_date'])"
        },
        {
            "cell_type": "code",
            "execution_count": 51,
            "metadata": {
                "id": "tuD9idnYjcWW"
            },
            "outputs": [],
            "source": "#Add column \"weekend\" using day of week processing as performed on the original data\ntest_df['weekend'] = df['dayofweek'].apply(lambda x: 1 if (x>3)  else 0)"
        },
        {
            "cell_type": "code",
            "execution_count": 52,
            "metadata": {
                "id": "WDqUW8sQvhMr"
            },
            "outputs": [],
            "source": "#Encode \"Gender\" as male = 0 and female = 1 as performed on the original data.\ntest_df['Gender'].replace(to_replace=['male','female'], value=[0,1],inplace=True)"
        },
        {
            "cell_type": "markdown",
            "metadata": {
                "id": "uq7abVERJjmE"
            },
            "source": "### The following is my own modification to the preprocessing of the Feature set where the terms of the loan, originally represented by numbers (7.0, 15.0, 30.0) are treated as categorical data, and then afterwards one-hot encoded."
        },
        {
            "cell_type": "markdown",
            "metadata": {
                "id": "4ftr44Eg-L_v"
            },
            "source": ""
        },
        {
            "cell_type": "code",
            "execution_count": 53,
            "metadata": {
                "id": "RsKsywjfG9FQ"
            },
            "outputs": [],
            "source": "# In my own modified preprocessing the loan term data is treated as categorical data.\ntest_df['terms'].replace(to_replace=[7.0, 15.0, 30.0], value=['7-day','15-day','30-day'],inplace=True)"
        },
        {
            "cell_type": "code",
            "execution_count": 54,
            "metadata": {
                "id": "TaFKEfpm7884"
            },
            "outputs": [],
            "source": "#Start putting together the new test_Feature data set as performed on the original data.\ntest_Feature = test_df[['Principal','age','Gender','weekend']]\n#test_Feature = test_df[['Principal','terms','age','Gender','weekend']] #to switch preprocessing for test"
        },
        {
            "cell_type": "code",
            "execution_count": 55,
            "metadata": {
                "id": "2ktAs6G1Laz9"
            },
            "outputs": [],
            "source": "#One-hot encode the levels of education completed.\ntest_Feature = pd.concat([test_Feature,pd.get_dummies(test_df['education'])], axis=1)\ntest_Feature.drop(['Master or Above'], axis = 1,inplace=True)"
        },
        {
            "cell_type": "markdown",
            "metadata": {
                "id": "ms4R821dBlfk"
            },
            "source": "### In the modified preprocessing the terms of loan are one-hot encoded."
        },
        {
            "cell_type": "code",
            "execution_count": 56,
            "metadata": {
                "colab": {
                    "base_uri": "https://localhost:8080/"
                },
                "id": "uGAmeDU6LQm9",
                "outputId": "72a2e7b7-4765-49d2-c256-eea44e1b9f33"
            },
            "outputs": [
                {
                    "name": "stdout",
                    "output_type": "stream",
                    "text": "test_Feature head: \n    Principal  age  Gender  weekend  Bechalor  High School or Below  college  \\\n0       1000   50       1        0         1                     0        0   \n1        300   35       0        0         0                     0        0   \n2       1000   43       1        0         0                     1        0   \n3       1000   26       0        1         0                     0        1   \n4        800   29       0        1         1                     0        0   \n\n   15-day  30-day  7-day  \n0       0       1      0  \n1       0       0      1  \n2       0       1      0  \n3       0       1      0  \n4       1       0      0   \n\ntest _Feature tail: \n     Principal  age  Gender  weekend  Bechalor  High School or Below  college  \\\n49       1000   32       0        1         0                     1        0   \n50        800   29       0        1         0                     0        1   \n51       1000   37       0        1         0                     1        0   \n52        800   36       0        1         0                     1        0   \n53       1000   33       0        1         0                     1        0   \n\n    15-day  30-day  7-day  \n49       0       1      0  \n50       1       0      0  \n51       0       1      0  \n52       1       0      0  \n53       0       1      0   \n\n"
                }
            ],
            "source": "# Now one-hot encoding the three different loan terms:\ntest_Feature = pd.concat([test_Feature,pd.get_dummies(test_df['terms'])], axis=1)\nprint(\"test_Feature head: \\n\", test_Feature.head(),'\\n')\nprint(\"test _Feature tail: \\n\", test_Feature.tail(),'\\n')"
        },
        {
            "cell_type": "markdown",
            "metadata": {
                "id": "81mD28inOtiV"
            },
            "source": "## It is very important that the preprocessing steps used for training and tuning be the same preprocessing step used to prepare the final test data for the prediction."
        },
        {
            "cell_type": "code",
            "execution_count": 57,
            "metadata": {
                "id": "HWFC5M5HxayU"
            },
            "outputs": [],
            "source": "#Setting up the labels\ny_final = test_df['loan_status'].values\n#print(y_final)\n\n#Converting the test Feature data frame to a numpy array to be ready to gather metrics for the\n# best classifiers that have already been fitted.\nX_final = test_Feature\nX_final = preprocessing.StandardScaler().fit(X_final).transform(X_final)\n# X_final #Uncomment to examine the numpy array"
        },
        {
            "cell_type": "markdown",
            "metadata": {
                "id": "IPB7NC8GZd7Q"
            },
            "source": "### There is no need to split the data now since the classifers have already been trained."
        },
        {
            "cell_type": "markdown",
            "metadata": {
                "id": "xAjO_PMSXQps"
            },
            "source": "# Using the final test data to evaluate metrics for the best KNN classifer."
        },
        {
            "cell_type": "code",
            "execution_count": 58,
            "metadata": {
                "colab": {
                    "base_uri": "https://localhost:8080/"
                },
                "id": "_cgootpJY0L4",
                "outputId": "4d5082e0-edf2-4178-baa7-83faaca82c85"
            },
            "outputs": [
                {
                    "name": "stdout",
                    "output_type": "stream",
                    "text": "KNN model weighted F1 score using k = 7 :  0.6328400281888654 \n\nKNN model weighted Jaccard score using k = 7 :  0.5102564102564102 \n\n"
                }
            ],
            "source": "#Making predictions using the best KNN classifer:\nfinal_yhat_k_best = neigh_k_best.predict(X_final)\n\n#Evaluating accuracy with several metrics in turn:\n#final_yhat_KNN_accuracy = metrics.accuracy_score(y_test, final_yhat_k_best)\nfinal_yhat_KNN_F1 = f1_score(y_final, final_yhat_k_best, average='weighted')\nfinal_yhat_KNN_jaccard = jaccard_score(y_final, final_yhat_k_best, average='weighted')\n#final_yhat_KNN_cnf_matrix = confusion_matrix(y_final, final_yhat_k_best)\n#final_yhat_KNN_report = classification_report(y_final, final_yhat_k_best)\n\n#print(\"KNN model accuracy using k =\", k_best, \": \", final_yhat_KNN_accuracy, '\\n')\nprint(\"KNN model weighted F1 score using k =\", k_best, \": \", final_yhat_KNN_F1, '\\n')\nprint(\"KNN model weighted Jaccard score using k =\", k_best, \": \", final_yhat_KNN_jaccard, '\\n')\n\n# #Following provides similar metrics:\n# print(\"Confusion matrix using KNN with k = \", k_best, \": \\n\", final_yhat_KNN_cnf_matrix, '\\n')\n# print(\"Classification report using KNN with k = \", k_best, \": \\n\", final_yhat_KNN_report, '\\n')"
        },
        {
            "cell_type": "markdown",
            "metadata": {
                "id": "fncCuRhrbjgm"
            },
            "source": "# Using the final test data to evaluate metrics for the best Decision Tree classifier."
        },
        {
            "cell_type": "code",
            "execution_count": 59,
            "metadata": {
                "colab": {
                    "base_uri": "https://localhost:8080/"
                },
                "id": "RdJJl22dbhuF",
                "outputId": "e1545835-5dd8-41d7-f2d9-9f98ce4032d4"
            },
            "outputs": [
                {
                    "name": "stdout",
                    "output_type": "stream",
                    "text": "Decision Tree weighted F1 score using  max_depth 6 :  0.6453810131971051 \n\nDecision Tree weighted Jaccard score using max_depth 6 :  0.5258659469185786 \n\n"
                }
            ],
            "source": "#Making predictions using the best Decision Tree classifier:\nfinal_yhat_predTree = loanTree.predict(X_final)\n\n#Evaluating accuracy with several metrics in turn:\n#final_yhat_predTree_accuracy = metrics.accuracy_score(y_final, final_yhat_predTree)\nfinal_yhat_predTree_F1 = f1_score(y_final, final_yhat_predTree, average='weighted')\nfinal_yhat_predTree_jaccard = jaccard_score(y_final, final_yhat_predTree, average='weighted')\n#final_yhat_predTree_cnf_matrix = confusion_matrix(y_final, final_yhat_predTree)\n#final_yhat_predTree_report = classification_report(y_final, final_yhat_predTree)\n\n\n#print(\"Decision Tree model accuracy using max_depth\", max_depth, \": \", final_yhat_predTree_accuracy, '\\n')\nprint(\"Decision Tree weighted F1 score using  max_depth\", max_depth, \": \", final_yhat_predTree_F1, '\\n')\nprint(\"Decision Tree weighted Jaccard score using max_depth\", max_depth, \": \", final_yhat_predTree_jaccard, '\\n')\n\n# #Following provides similar metrics:\n# print(\"Confusion matrix using KNN with max_depth\", max_depth, \": \\n\", final_yhat_predTree_cnf_matrix, '\\n')\n# print(\"Classification report using KNN with max_depth\", max_depth, \": \\n\", final_yhat_predTree_report, '\\n')"
        },
        {
            "cell_type": "markdown",
            "metadata": {
                "id": "dFRpJJTZvAJi"
            },
            "source": "#Using the final test data to evaluate metrics for the best SVM classifier."
        },
        {
            "cell_type": "code",
            "execution_count": 60,
            "metadata": {
                "colab": {
                    "base_uri": "https://localhost:8080/"
                },
                "id": "pGF7mPawvSuA",
                "outputId": "9dd8e3de-2926-489b-ff19-9394ef8bdabe"
            },
            "outputs": [
                {
                    "name": "stdout",
                    "output_type": "stream",
                    "text": "SVM model weighted F1 score using rbf kernel:  0.7705406555981269 \n\nSVM model weighted Jaccard score using rbf kernel:  0.6554705215419501 \n\n"
                }
            ],
            "source": "#Making predictions using the best SVM classifier:\nfinal_yhat_rbf = svm_rbf.predict(X_final)\n\n#Evaluating each SVM model based on different kernels in turn:\n#Using the rbf kernel:\n#final_yhat_rbf_accuracy = metrics.accuracy_score(y_final, final_yhat_rbf)\nfinal_yhat_rbf_F1 = f1_score(y_final, final_yhat_rbf, average='weighted')\nfinal_yhat_rbf_jaccard = jaccard_score(y_final, final_yhat_rbf, average='weighted')\n#final_yhat_rbf_cnf_matrix = confusion_matrix(y_final,final_yhat_rbf)\n#final_yhat_rbf_report = classification_report(y_final, final_yhat_rbf)\n\n#print(\"SVM model accuracy using rbf kernel: \", final_yhat_rbf_accuracy, '\\n')\nprint(\"SVM model weighted F1 score using rbf kernel: \", final_yhat_rbf_F1, '\\n')\nprint(\"SVM model weighted Jaccard score using rbf kernel: \", final_yhat_rbf_jaccard, '\\n')\n\n# #Following provides similar metrics:\n# print(\"Confusion matrix using rbf kernel: \\n\", final_yhat_rbf_cnf_matrix, '\\n')\n# print(\"Classification report using rbf kernel: \\n\", final_yhat_rbf_report, '\\n')"
        },
        {
            "cell_type": "markdown",
            "metadata": {
                "id": "uEqY2krlxyAC"
            },
            "source": "## Using the final test data to evaluate metrics for the Logistic Regression classifer."
        },
        {
            "cell_type": "code",
            "execution_count": 61,
            "metadata": {
                "colab": {
                    "base_uri": "https://localhost:8080/"
                },
                "id": "Za6pePyNyFHy",
                "outputId": "3c31485f-d108-44c4-9199-ea912ac9b881"
            },
            "outputs": [
                {
                    "name": "stdout",
                    "output_type": "stream",
                    "text": "Logistic Regression model weighted F1 score:  0.6304176516942475 \n\nLogistic Regression model weighted Jaccard score:  0.5486968449931412 \n\nLogistic Regression model log loss:  0.5269974408129394 \n\n"
                }
            ],
            "source": "#Predict Logistic Regression classification using test data:\nfinal_yhat_lr = LR.predict(X_final)\n\n#Evaluating the Logistic Regression model based with several metrics:\n#final_yhat_lr_accuracy = metrics.accuracy_score(y_final, final_yhat_lr)\nfinal_yhat_lr_F1 = f1_score(y_final, final_yhat_lr, average='weighted')\nfinal_yhat_lr_jaccard = jaccard_score(y_final, final_yhat_lr, average='weighted')\n#print(\"Logistic Regression accuracy: \", final_yhat_lr_accuracy, '\\n')\nprint(\"Logistic Regression model weighted F1 score: \", final_yhat_lr_F1, '\\n')\nprint(\"Logistic Regression model weighted Jaccard score: \", final_yhat_lr_jaccard, '\\n')\n\n#final_yhat_lr_cnf_matrix = confusion_matrix(y_final, final_yhat_lr)\n#final_yhat_lr_report = classification_report(y_final, final_yhat_lr)\n\n# #Following provides similar metrics:\n# print(\"Confusion matrix using Logistic Regression: \\n\", final_yhat_lr_cnf_matrix, '\\n')\n# print(\"Classification report using Logistic Regression: \\n\", final_yhat_lr_report, '\\n')\n\n#Computing the probabilities and then the log loss:\nfinal_yhat_lr_prob = LR.predict_proba(X_final)\nfinal_yhat_log_loss = log_loss(y_test, yhat_lr_prob)\nprint(\"Logistic Regression model log loss: \", log_loss(y_final, final_yhat_lr_prob), '\\n')"
        },
        {
            "cell_type": "markdown",
            "metadata": {
                "id": "FfjNiDxsjcWW"
            },
            "source": "# Report\n\nYou should be able to report the accuracy of the built model using different evaluation metrics:\n"
        },
        {
            "cell_type": "markdown",
            "metadata": {
                "id": "I3wtBT0RjcWW"
            },
            "source": "These metrics result when the loan terms are converted to categorical labels and then one-hot encoded which was my modified preprocessing attempt. (Used comments to switch back to the other preprocessing to get the other report below.)\n\n| Algorithm          | Jaccard | F1-score | LogLoss |\n| ------------------ | ------- | -------- | ------- |\n| KNN (k=7)               | 0.510       | 0.633        | NA      |\n| Decision Tree      | 0.526       | 0.645        | NA      |\n| SVM                | 0.655       | 0.771        | NA      |\n| LogisticRegression | 0.549      |  0.630        | 0.527       |\n"
        },
        {
            "cell_type": "markdown",
            "metadata": {
                "id": "UzAB6PZA8Q72"
            },
            "source": "This metrics result when the loan terms are left as numerical 7.0, 15.0, 30.0. (Used comments to redo my preprocessing modification to get back to the other report above.)\n\n| Algorithm          | Jaccard | F1-score | LogLoss |\n| ------------------ | ------- | -------- | ------- |\n| KNN (k=7)               | 0.495       | 0.620        | NA      |\n| Decision Tree      | 0.526       | 0.645        | NA      |\n| SVM                | 0.676       | 0.786        | NA      |\n| LogisticRegression | 0.549      |  0.630        | 0.547       |\n\n###My conclusion is that the modified preprocessing did not make much of a difference, but worth a try.\n"
        },
        {
            "cell_type": "markdown",
            "metadata": {
                "button": false,
                "id": "emJxtyZKjcWW",
                "new_sheet": false,
                "run_control": {
                    "read_only": false
                }
            },
            "source": "<h2>Want to learn more?</h2>\n\nIBM SPSS Modeler is a comprehensive analytics platform that has many machine learning algorithms. It has been designed to bring predictive intelligence to decisions made by individuals, by groups, by systems \u2013 by your enterprise as a whole. A free trial is available through this course, available here: <a href=\"http://cocl.us/ML0101EN-SPSSModeler?utm_medium=Exinfluencer&utm_source=Exinfluencer&utm_content=000026UJ&utm_term=10006555&utm_id=NA-SkillsNetwork-Channel-SkillsNetworkCoursesIBMDeveloperSkillsNetworkML0101ENSkillsNetwork20718538-2022-01-01\">SPSS Modeler</a>\n\nAlso, you can use Watson Studio to run these notebooks faster with bigger datasets. Watson Studio is IBM's leading cloud solution for data scientists, built by data scientists. With Jupyter notebooks, RStudio, Apache Spark and popular libraries pre-packaged in the cloud, Watson Studio enables data scientists to collaborate on their projects without having to install anything. Join the fast-growing community of Watson Studio users today with a free account at <a href=\"https://cocl.us/ML0101EN_DSX?utm_medium=Exinfluencer&utm_source=Exinfluencer&utm_content=000026UJ&utm_term=10006555&utm_id=NA-SkillsNetwork-Channel-SkillsNetworkCoursesIBMDeveloperSkillsNetworkML0101ENSkillsNetwork20718538-2022-01-01\">Watson Studio</a>\n\n<h3>Thanks for completing this lesson!</h3>\n\n<h4>Author:  <a href=\"https://ca.linkedin.com/in/saeedaghabozorgi?utm_medium=Exinfluencer&utm_source=Exinfluencer&utm_content=000026UJ&utm_term=10006555&utm_id=NA-SkillsNetwork-Channel-SkillsNetworkCoursesIBMDeveloperSkillsNetworkML0101ENSkillsNetwork20718538-2022-01-01?utm_medium=Exinfluencer&utm_source=Exinfluencer&utm_content=000026UJ&utm_term=10006555&utm_id=NA-SkillsNetwork-Channel-SkillsNetworkCoursesIBMDeveloperSkillsNetworkML0101ENSkillsNetwork20718538-2022-01-01\">Saeed Aghabozorgi</a></h4>\n<p><a href=\"https://ca.linkedin.com/in/saeedaghabozorgi\">Saeed Aghabozorgi</a>, PhD is a Data Scientist in IBM with a track record of developing enterprise level applications that substantially increases clients\u2019 ability to turn data into actionable knowledge. He is a researcher in data mining field and expert in developing advanced analytic methods like machine learning and statistical modelling on large datasets.</p>\n\n<hr>\n\n## Change Log\n\n| Date (YYYY-MM-DD) | Version | Changed By    | Change Description                                                             |\n| ----------------- | ------- | ------------- | ------------------------------------------------------------------------------ |\n| 2020-10-27        | 2.1     | Lakshmi Holla | Made changes in import statement due to updates in version of  sklearn library |\n| 2020-08-27        | 2.0     | Malika Singla | Added lab to GitLab                                                            |\n\n<hr>\n\n## <h3 align=\"center\"> \u00a9 IBM Corporation 2020. All rights reserved. <h3/>\n\n<p>\n"
        }
    ],
    "metadata": {
        "colab": {
            "collapsed_sections": [],
            "name": "final_ML0101EN-Proj-Loan-py-v1.ipynb",
            "provenance": [],
            "toc_visible": true
        },
        "kernelspec": {
            "display_name": "Python 3.9",
            "language": "python",
            "name": "python3"
        },
        "language_info": {
            "codemirror_mode": {
                "name": "ipython",
                "version": 3
            },
            "file_extension": ".py",
            "mimetype": "text/x-python",
            "name": "python",
            "nbconvert_exporter": "python",
            "pygments_lexer": "ipython3",
            "version": "3.9.7"
        }
    },
    "nbformat": 4,
    "nbformat_minor": 1
}